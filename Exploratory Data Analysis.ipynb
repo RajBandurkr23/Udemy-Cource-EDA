{
 "cells": [
  {
   "cell_type": "markdown",
   "metadata": {},
   "source": [
    "Import Libraries "
   ]
  },
  {
   "cell_type": "code",
   "execution_count": 33,
   "metadata": {},
   "outputs": [],
   "source": [
    "import pandas as pd\n",
    "import numpy as np\n",
    "import seaborn as sns\n",
    "import matplotlib.pyplot as plt\n",
    "from scipy import stats\n",
    "%matplotlib inline\n",
    "sns.set(color_codes=True)\n",
    "\n",
    "import plotly.graph_objects as go\n",
    "from datetime import datetime\n",
    "import warnings \n",
    "warnings.filterwarnings('ignore')"
   ]
  },
  {
   "cell_type": "markdown",
   "metadata": {},
   "source": [
    "Collecting Data"
   ]
  },
  {
   "cell_type": "code",
   "execution_count": 34,
   "metadata": {},
   "outputs": [
    {
     "data": {
      "text/html": [
       "<div>\n",
       "<style scoped>\n",
       "    .dataframe tbody tr th:only-of-type {\n",
       "        vertical-align: middle;\n",
       "    }\n",
       "\n",
       "    .dataframe tbody tr th {\n",
       "        vertical-align: top;\n",
       "    }\n",
       "\n",
       "    .dataframe thead th {\n",
       "        text-align: right;\n",
       "    }\n",
       "</style>\n",
       "<table border=\"1\" class=\"dataframe\">\n",
       "  <thead>\n",
       "    <tr style=\"text-align: right;\">\n",
       "      <th></th>\n",
       "      <th>id</th>\n",
       "      <th>title</th>\n",
       "      <th>url</th>\n",
       "      <th>is_paid</th>\n",
       "      <th>num_subscribers</th>\n",
       "      <th>avg_rating</th>\n",
       "      <th>avg_rating_recent</th>\n",
       "      <th>rating</th>\n",
       "      <th>num_reviews</th>\n",
       "      <th>is_wishlisted</th>\n",
       "      <th>num_published_lectures</th>\n",
       "      <th>num_published_practice_tests</th>\n",
       "      <th>created</th>\n",
       "      <th>published_time</th>\n",
       "      <th>discount_price__amount</th>\n",
       "      <th>discount_price__currency</th>\n",
       "      <th>discount_price__price_string</th>\n",
       "      <th>price_detail__amount</th>\n",
       "      <th>price_detail__currency</th>\n",
       "      <th>price_detail__price_string</th>\n",
       "    </tr>\n",
       "  </thead>\n",
       "  <tbody>\n",
       "    <tr>\n",
       "      <th>0</th>\n",
       "      <td>762616</td>\n",
       "      <td>The Complete SQL Bootcamp 2020: Go from Zero t...</td>\n",
       "      <td>/course/the-complete-sql-bootcamp/</td>\n",
       "      <td>True</td>\n",
       "      <td>295509</td>\n",
       "      <td>4.66019</td>\n",
       "      <td>4.67874</td>\n",
       "      <td>4.67874</td>\n",
       "      <td>78006</td>\n",
       "      <td>False</td>\n",
       "      <td>84</td>\n",
       "      <td>0</td>\n",
       "      <td>2016-02-14T22:57:48Z</td>\n",
       "      <td>2016-04-06T05:16:11Z</td>\n",
       "      <td>455.0</td>\n",
       "      <td>INR</td>\n",
       "      <td>₹455</td>\n",
       "      <td>8640.0</td>\n",
       "      <td>INR</td>\n",
       "      <td>₹8,640</td>\n",
       "    </tr>\n",
       "    <tr>\n",
       "      <th>1</th>\n",
       "      <td>937678</td>\n",
       "      <td>Tableau 2020 A-Z: Hands-On Tableau Training fo...</td>\n",
       "      <td>/course/tableau10/</td>\n",
       "      <td>True</td>\n",
       "      <td>209070</td>\n",
       "      <td>4.58956</td>\n",
       "      <td>4.60015</td>\n",
       "      <td>4.60015</td>\n",
       "      <td>54581</td>\n",
       "      <td>False</td>\n",
       "      <td>78</td>\n",
       "      <td>0</td>\n",
       "      <td>2016-08-22T12:10:18Z</td>\n",
       "      <td>2016-08-23T16:59:49Z</td>\n",
       "      <td>455.0</td>\n",
       "      <td>INR</td>\n",
       "      <td>₹455</td>\n",
       "      <td>8640.0</td>\n",
       "      <td>INR</td>\n",
       "      <td>₹8,640</td>\n",
       "    </tr>\n",
       "    <tr>\n",
       "      <th>2</th>\n",
       "      <td>1361790</td>\n",
       "      <td>PMP Exam Prep Seminar -  PMBOK Guide 6</td>\n",
       "      <td>/course/pmp-pmbok6-35-pdus/</td>\n",
       "      <td>True</td>\n",
       "      <td>155282</td>\n",
       "      <td>4.59491</td>\n",
       "      <td>4.59326</td>\n",
       "      <td>4.59326</td>\n",
       "      <td>52653</td>\n",
       "      <td>False</td>\n",
       "      <td>292</td>\n",
       "      <td>2</td>\n",
       "      <td>2017-09-26T16:32:48Z</td>\n",
       "      <td>2017-11-14T23:58:14Z</td>\n",
       "      <td>455.0</td>\n",
       "      <td>INR</td>\n",
       "      <td>₹455</td>\n",
       "      <td>8640.0</td>\n",
       "      <td>INR</td>\n",
       "      <td>₹8,640</td>\n",
       "    </tr>\n",
       "    <tr>\n",
       "      <th>3</th>\n",
       "      <td>648826</td>\n",
       "      <td>The Complete Financial Analyst Course 2020</td>\n",
       "      <td>/course/the-complete-financial-analyst-course/</td>\n",
       "      <td>True</td>\n",
       "      <td>245860</td>\n",
       "      <td>4.54407</td>\n",
       "      <td>4.53772</td>\n",
       "      <td>4.53772</td>\n",
       "      <td>46447</td>\n",
       "      <td>False</td>\n",
       "      <td>338</td>\n",
       "      <td>0</td>\n",
       "      <td>2015-10-23T13:34:35Z</td>\n",
       "      <td>2016-01-21T01:38:48Z</td>\n",
       "      <td>455.0</td>\n",
       "      <td>INR</td>\n",
       "      <td>₹455</td>\n",
       "      <td>8640.0</td>\n",
       "      <td>INR</td>\n",
       "      <td>₹8,640</td>\n",
       "    </tr>\n",
       "    <tr>\n",
       "      <th>4</th>\n",
       "      <td>637930</td>\n",
       "      <td>An Entire MBA in 1 Course:Award Winning Busine...</td>\n",
       "      <td>/course/an-entire-mba-in-1-courseaward-winning...</td>\n",
       "      <td>True</td>\n",
       "      <td>374836</td>\n",
       "      <td>4.47080</td>\n",
       "      <td>4.47173</td>\n",
       "      <td>4.47173</td>\n",
       "      <td>41630</td>\n",
       "      <td>False</td>\n",
       "      <td>83</td>\n",
       "      <td>0</td>\n",
       "      <td>2015-10-12T06:39:46Z</td>\n",
       "      <td>2016-01-11T21:39:33Z</td>\n",
       "      <td>455.0</td>\n",
       "      <td>INR</td>\n",
       "      <td>₹455</td>\n",
       "      <td>8640.0</td>\n",
       "      <td>INR</td>\n",
       "      <td>₹8,640</td>\n",
       "    </tr>\n",
       "    <tr>\n",
       "      <th>...</th>\n",
       "      <td>...</td>\n",
       "      <td>...</td>\n",
       "      <td>...</td>\n",
       "      <td>...</td>\n",
       "      <td>...</td>\n",
       "      <td>...</td>\n",
       "      <td>...</td>\n",
       "      <td>...</td>\n",
       "      <td>...</td>\n",
       "      <td>...</td>\n",
       "      <td>...</td>\n",
       "      <td>...</td>\n",
       "      <td>...</td>\n",
       "      <td>...</td>\n",
       "      <td>...</td>\n",
       "      <td>...</td>\n",
       "      <td>...</td>\n",
       "      <td>...</td>\n",
       "      <td>...</td>\n",
       "      <td>...</td>\n",
       "    </tr>\n",
       "    <tr>\n",
       "      <th>13603</th>\n",
       "      <td>3005408</td>\n",
       "      <td>מושגים בסיסיים באופציות חלק ב</td>\n",
       "      <td>/course/1-ndgzhu/</td>\n",
       "      <td>False</td>\n",
       "      <td>47</td>\n",
       "      <td>0.00000</td>\n",
       "      <td>0.00000</td>\n",
       "      <td>0.00000</td>\n",
       "      <td>0</td>\n",
       "      <td>False</td>\n",
       "      <td>6</td>\n",
       "      <td>0</td>\n",
       "      <td>2020-04-15T10:20:17Z</td>\n",
       "      <td>2020-04-23T02:06:55Z</td>\n",
       "      <td>NaN</td>\n",
       "      <td>NaN</td>\n",
       "      <td>NaN</td>\n",
       "      <td>NaN</td>\n",
       "      <td>NaN</td>\n",
       "      <td>NaN</td>\n",
       "    </tr>\n",
       "    <tr>\n",
       "      <th>13604</th>\n",
       "      <td>3467284</td>\n",
       "      <td>Programa de Integridade</td>\n",
       "      <td>/course/iaudit_programa_de_integridade/</td>\n",
       "      <td>False</td>\n",
       "      <td>19</td>\n",
       "      <td>0.00000</td>\n",
       "      <td>0.00000</td>\n",
       "      <td>0.00000</td>\n",
       "      <td>0</td>\n",
       "      <td>False</td>\n",
       "      <td>5</td>\n",
       "      <td>0</td>\n",
       "      <td>2020-09-01T17:57:15Z</td>\n",
       "      <td>2020-09-03T15:26:47Z</td>\n",
       "      <td>NaN</td>\n",
       "      <td>NaN</td>\n",
       "      <td>NaN</td>\n",
       "      <td>NaN</td>\n",
       "      <td>NaN</td>\n",
       "      <td>NaN</td>\n",
       "    </tr>\n",
       "    <tr>\n",
       "      <th>13605</th>\n",
       "      <td>3368222</td>\n",
       "      <td>Goodwill and Method of Calculating Goodwill (A...</td>\n",
       "      <td>/course/goodwill-and-method-of-calculating-goo...</td>\n",
       "      <td>False</td>\n",
       "      <td>47</td>\n",
       "      <td>0.00000</td>\n",
       "      <td>0.00000</td>\n",
       "      <td>0.00000</td>\n",
       "      <td>0</td>\n",
       "      <td>False</td>\n",
       "      <td>5</td>\n",
       "      <td>0</td>\n",
       "      <td>2020-07-27T02:29:18Z</td>\n",
       "      <td>2020-07-31T12:14:40Z</td>\n",
       "      <td>NaN</td>\n",
       "      <td>NaN</td>\n",
       "      <td>NaN</td>\n",
       "      <td>NaN</td>\n",
       "      <td>NaN</td>\n",
       "      <td>NaN</td>\n",
       "    </tr>\n",
       "    <tr>\n",
       "      <th>13606</th>\n",
       "      <td>3211345</td>\n",
       "      <td>Poderoso Investidor</td>\n",
       "      <td>/course/poderoso-investidor/</td>\n",
       "      <td>False</td>\n",
       "      <td>48</td>\n",
       "      <td>0.00000</td>\n",
       "      <td>0.00000</td>\n",
       "      <td>0.00000</td>\n",
       "      <td>0</td>\n",
       "      <td>False</td>\n",
       "      <td>13</td>\n",
       "      <td>0</td>\n",
       "      <td>2020-06-07T01:29:53Z</td>\n",
       "      <td>2020-07-15T10:35:38Z</td>\n",
       "      <td>NaN</td>\n",
       "      <td>NaN</td>\n",
       "      <td>NaN</td>\n",
       "      <td>NaN</td>\n",
       "      <td>NaN</td>\n",
       "      <td>NaN</td>\n",
       "    </tr>\n",
       "    <tr>\n",
       "      <th>13607</th>\n",
       "      <td>2935720</td>\n",
       "      <td>Acabou a Previdência e agora? -  Volume 03</td>\n",
       "      <td>/course/acabou-a-previdencia-e-agora-volume-03/</td>\n",
       "      <td>True</td>\n",
       "      <td>0</td>\n",
       "      <td>0.00000</td>\n",
       "      <td>0.00000</td>\n",
       "      <td>0.00000</td>\n",
       "      <td>0</td>\n",
       "      <td>False</td>\n",
       "      <td>14</td>\n",
       "      <td>0</td>\n",
       "      <td>2020-03-30T19:10:58Z</td>\n",
       "      <td>2020-04-02T16:33:32Z</td>\n",
       "      <td>NaN</td>\n",
       "      <td>NaN</td>\n",
       "      <td>NaN</td>\n",
       "      <td>NaN</td>\n",
       "      <td>NaN</td>\n",
       "      <td>NaN</td>\n",
       "    </tr>\n",
       "  </tbody>\n",
       "</table>\n",
       "<p>13608 rows × 20 columns</p>\n",
       "</div>"
      ],
      "text/plain": [
       "            id                                              title  \\\n",
       "0       762616  The Complete SQL Bootcamp 2020: Go from Zero t...   \n",
       "1       937678  Tableau 2020 A-Z: Hands-On Tableau Training fo...   \n",
       "2      1361790             PMP Exam Prep Seminar -  PMBOK Guide 6   \n",
       "3       648826         The Complete Financial Analyst Course 2020   \n",
       "4       637930  An Entire MBA in 1 Course:Award Winning Busine...   \n",
       "...        ...                                                ...   \n",
       "13603  3005408                      מושגים בסיסיים באופציות חלק ב   \n",
       "13604  3467284                            Programa de Integridade   \n",
       "13605  3368222  Goodwill and Method of Calculating Goodwill (A...   \n",
       "13606  3211345                                Poderoso Investidor   \n",
       "13607  2935720         Acabou a Previdência e agora? -  Volume 03   \n",
       "\n",
       "                                                     url  is_paid  \\\n",
       "0                     /course/the-complete-sql-bootcamp/     True   \n",
       "1                                     /course/tableau10/     True   \n",
       "2                            /course/pmp-pmbok6-35-pdus/     True   \n",
       "3         /course/the-complete-financial-analyst-course/     True   \n",
       "4      /course/an-entire-mba-in-1-courseaward-winning...     True   \n",
       "...                                                  ...      ...   \n",
       "13603                                  /course/1-ndgzhu/    False   \n",
       "13604            /course/iaudit_programa_de_integridade/    False   \n",
       "13605  /course/goodwill-and-method-of-calculating-goo...    False   \n",
       "13606                       /course/poderoso-investidor/    False   \n",
       "13607    /course/acabou-a-previdencia-e-agora-volume-03/     True   \n",
       "\n",
       "       num_subscribers  avg_rating  avg_rating_recent   rating  num_reviews  \\\n",
       "0               295509     4.66019            4.67874  4.67874        78006   \n",
       "1               209070     4.58956            4.60015  4.60015        54581   \n",
       "2               155282     4.59491            4.59326  4.59326        52653   \n",
       "3               245860     4.54407            4.53772  4.53772        46447   \n",
       "4               374836     4.47080            4.47173  4.47173        41630   \n",
       "...                ...         ...                ...      ...          ...   \n",
       "13603               47     0.00000            0.00000  0.00000            0   \n",
       "13604               19     0.00000            0.00000  0.00000            0   \n",
       "13605               47     0.00000            0.00000  0.00000            0   \n",
       "13606               48     0.00000            0.00000  0.00000            0   \n",
       "13607                0     0.00000            0.00000  0.00000            0   \n",
       "\n",
       "       is_wishlisted  num_published_lectures  num_published_practice_tests  \\\n",
       "0              False                      84                             0   \n",
       "1              False                      78                             0   \n",
       "2              False                     292                             2   \n",
       "3              False                     338                             0   \n",
       "4              False                      83                             0   \n",
       "...              ...                     ...                           ...   \n",
       "13603          False                       6                             0   \n",
       "13604          False                       5                             0   \n",
       "13605          False                       5                             0   \n",
       "13606          False                      13                             0   \n",
       "13607          False                      14                             0   \n",
       "\n",
       "                    created        published_time  discount_price__amount  \\\n",
       "0      2016-02-14T22:57:48Z  2016-04-06T05:16:11Z                   455.0   \n",
       "1      2016-08-22T12:10:18Z  2016-08-23T16:59:49Z                   455.0   \n",
       "2      2017-09-26T16:32:48Z  2017-11-14T23:58:14Z                   455.0   \n",
       "3      2015-10-23T13:34:35Z  2016-01-21T01:38:48Z                   455.0   \n",
       "4      2015-10-12T06:39:46Z  2016-01-11T21:39:33Z                   455.0   \n",
       "...                     ...                   ...                     ...   \n",
       "13603  2020-04-15T10:20:17Z  2020-04-23T02:06:55Z                     NaN   \n",
       "13604  2020-09-01T17:57:15Z  2020-09-03T15:26:47Z                     NaN   \n",
       "13605  2020-07-27T02:29:18Z  2020-07-31T12:14:40Z                     NaN   \n",
       "13606  2020-06-07T01:29:53Z  2020-07-15T10:35:38Z                     NaN   \n",
       "13607  2020-03-30T19:10:58Z  2020-04-02T16:33:32Z                     NaN   \n",
       "\n",
       "      discount_price__currency discount_price__price_string  \\\n",
       "0                          INR                         ₹455   \n",
       "1                          INR                         ₹455   \n",
       "2                          INR                         ₹455   \n",
       "3                          INR                         ₹455   \n",
       "4                          INR                         ₹455   \n",
       "...                        ...                          ...   \n",
       "13603                      NaN                          NaN   \n",
       "13604                      NaN                          NaN   \n",
       "13605                      NaN                          NaN   \n",
       "13606                      NaN                          NaN   \n",
       "13607                      NaN                          NaN   \n",
       "\n",
       "       price_detail__amount price_detail__currency price_detail__price_string  \n",
       "0                    8640.0                    INR                     ₹8,640  \n",
       "1                    8640.0                    INR                     ₹8,640  \n",
       "2                    8640.0                    INR                     ₹8,640  \n",
       "3                    8640.0                    INR                     ₹8,640  \n",
       "4                    8640.0                    INR                     ₹8,640  \n",
       "...                     ...                    ...                        ...  \n",
       "13603                   NaN                    NaN                        NaN  \n",
       "13604                   NaN                    NaN                        NaN  \n",
       "13605                   NaN                    NaN                        NaN  \n",
       "13606                   NaN                    NaN                        NaN  \n",
       "13607                   NaN                    NaN                        NaN  \n",
       "\n",
       "[13608 rows x 20 columns]"
      ]
     },
     "execution_count": 34,
     "metadata": {},
     "output_type": "execute_result"
    }
   ],
   "source": [
    "data= pd.read_csv(\"F:/Kaggle Data/Udemy Finance/udemy_output_All_Finance__Accounting_p1_p626.csv\")\n",
    "data"
   ]
  },
  {
   "cell_type": "markdown",
   "metadata": {},
   "source": [
    "Data Cleaning"
   ]
  },
  {
   "cell_type": "code",
   "execution_count": 35,
   "metadata": {},
   "outputs": [
    {
     "data": {
      "text/html": [
       "<div>\n",
       "<style scoped>\n",
       "    .dataframe tbody tr th:only-of-type {\n",
       "        vertical-align: middle;\n",
       "    }\n",
       "\n",
       "    .dataframe tbody tr th {\n",
       "        vertical-align: top;\n",
       "    }\n",
       "\n",
       "    .dataframe thead th {\n",
       "        text-align: right;\n",
       "    }\n",
       "</style>\n",
       "<table border=\"1\" class=\"dataframe\">\n",
       "  <thead>\n",
       "    <tr style=\"text-align: right;\">\n",
       "      <th></th>\n",
       "      <th>id</th>\n",
       "      <th>num_subscribers</th>\n",
       "      <th>avg_rating</th>\n",
       "      <th>avg_rating_recent</th>\n",
       "      <th>rating</th>\n",
       "      <th>num_reviews</th>\n",
       "      <th>num_published_lectures</th>\n",
       "      <th>num_published_practice_tests</th>\n",
       "      <th>discount_price__amount</th>\n",
       "      <th>price_detail__amount</th>\n",
       "    </tr>\n",
       "  </thead>\n",
       "  <tbody>\n",
       "    <tr>\n",
       "      <th>count</th>\n",
       "      <td>1.360800e+04</td>\n",
       "      <td>13608.000000</td>\n",
       "      <td>13608.000000</td>\n",
       "      <td>13608.000000</td>\n",
       "      <td>13608.000000</td>\n",
       "      <td>13608.000000</td>\n",
       "      <td>13608.000000</td>\n",
       "      <td>13608.000000</td>\n",
       "      <td>12205.000000</td>\n",
       "      <td>13111.000000</td>\n",
       "    </tr>\n",
       "    <tr>\n",
       "      <th>mean</th>\n",
       "      <td>1.681721e+06</td>\n",
       "      <td>2847.010435</td>\n",
       "      <td>3.923293</td>\n",
       "      <td>3.912242</td>\n",
       "      <td>3.912242</td>\n",
       "      <td>243.169827</td>\n",
       "      <td>32.224794</td>\n",
       "      <td>0.110523</td>\n",
       "      <td>493.943794</td>\n",
       "      <td>4646.992602</td>\n",
       "    </tr>\n",
       "    <tr>\n",
       "      <th>std</th>\n",
       "      <td>9.539271e+05</td>\n",
       "      <td>9437.865634</td>\n",
       "      <td>1.031304</td>\n",
       "      <td>1.039237</td>\n",
       "      <td>1.039237</td>\n",
       "      <td>1580.965895</td>\n",
       "      <td>42.766911</td>\n",
       "      <td>0.623501</td>\n",
       "      <td>267.827260</td>\n",
       "      <td>3109.101019</td>\n",
       "    </tr>\n",
       "    <tr>\n",
       "      <th>min</th>\n",
       "      <td>2.762000e+03</td>\n",
       "      <td>0.000000</td>\n",
       "      <td>0.000000</td>\n",
       "      <td>0.000000</td>\n",
       "      <td>0.000000</td>\n",
       "      <td>0.000000</td>\n",
       "      <td>0.000000</td>\n",
       "      <td>0.000000</td>\n",
       "      <td>455.000000</td>\n",
       "      <td>1280.000000</td>\n",
       "    </tr>\n",
       "    <tr>\n",
       "      <th>25%</th>\n",
       "      <td>8.580862e+05</td>\n",
       "      <td>62.000000</td>\n",
       "      <td>3.800000</td>\n",
       "      <td>3.787315</td>\n",
       "      <td>3.787315</td>\n",
       "      <td>7.000000</td>\n",
       "      <td>12.000000</td>\n",
       "      <td>0.000000</td>\n",
       "      <td>455.000000</td>\n",
       "      <td>1600.000000</td>\n",
       "    </tr>\n",
       "    <tr>\n",
       "      <th>50%</th>\n",
       "      <td>1.623421e+06</td>\n",
       "      <td>533.000000</td>\n",
       "      <td>4.194440</td>\n",
       "      <td>4.181735</td>\n",
       "      <td>4.181735</td>\n",
       "      <td>24.000000</td>\n",
       "      <td>21.000000</td>\n",
       "      <td>0.000000</td>\n",
       "      <td>455.000000</td>\n",
       "      <td>3200.000000</td>\n",
       "    </tr>\n",
       "    <tr>\n",
       "      <th>75%</th>\n",
       "      <td>2.503720e+06</td>\n",
       "      <td>2279.500000</td>\n",
       "      <td>4.450000</td>\n",
       "      <td>4.452105</td>\n",
       "      <td>4.452105</td>\n",
       "      <td>87.000000</td>\n",
       "      <td>37.000000</td>\n",
       "      <td>0.000000</td>\n",
       "      <td>455.000000</td>\n",
       "      <td>8640.000000</td>\n",
       "    </tr>\n",
       "    <tr>\n",
       "      <th>max</th>\n",
       "      <td>3.486006e+06</td>\n",
       "      <td>374836.000000</td>\n",
       "      <td>5.000000</td>\n",
       "      <td>5.000000</td>\n",
       "      <td>5.000000</td>\n",
       "      <td>78006.000000</td>\n",
       "      <td>699.000000</td>\n",
       "      <td>6.000000</td>\n",
       "      <td>3200.000000</td>\n",
       "      <td>12800.000000</td>\n",
       "    </tr>\n",
       "  </tbody>\n",
       "</table>\n",
       "</div>"
      ],
      "text/plain": [
       "                 id  num_subscribers    avg_rating  avg_rating_recent  \\\n",
       "count  1.360800e+04     13608.000000  13608.000000       13608.000000   \n",
       "mean   1.681721e+06      2847.010435      3.923293           3.912242   \n",
       "std    9.539271e+05      9437.865634      1.031304           1.039237   \n",
       "min    2.762000e+03         0.000000      0.000000           0.000000   \n",
       "25%    8.580862e+05        62.000000      3.800000           3.787315   \n",
       "50%    1.623421e+06       533.000000      4.194440           4.181735   \n",
       "75%    2.503720e+06      2279.500000      4.450000           4.452105   \n",
       "max    3.486006e+06    374836.000000      5.000000           5.000000   \n",
       "\n",
       "             rating   num_reviews  num_published_lectures  \\\n",
       "count  13608.000000  13608.000000            13608.000000   \n",
       "mean       3.912242    243.169827               32.224794   \n",
       "std        1.039237   1580.965895               42.766911   \n",
       "min        0.000000      0.000000                0.000000   \n",
       "25%        3.787315      7.000000               12.000000   \n",
       "50%        4.181735     24.000000               21.000000   \n",
       "75%        4.452105     87.000000               37.000000   \n",
       "max        5.000000  78006.000000              699.000000   \n",
       "\n",
       "       num_published_practice_tests  discount_price__amount  \\\n",
       "count                  13608.000000            12205.000000   \n",
       "mean                       0.110523              493.943794   \n",
       "std                        0.623501              267.827260   \n",
       "min                        0.000000              455.000000   \n",
       "25%                        0.000000              455.000000   \n",
       "50%                        0.000000              455.000000   \n",
       "75%                        0.000000              455.000000   \n",
       "max                        6.000000             3200.000000   \n",
       "\n",
       "       price_detail__amount  \n",
       "count          13111.000000  \n",
       "mean            4646.992602  \n",
       "std             3109.101019  \n",
       "min             1280.000000  \n",
       "25%             1600.000000  \n",
       "50%             3200.000000  \n",
       "75%             8640.000000  \n",
       "max            12800.000000  "
      ]
     },
     "execution_count": 35,
     "metadata": {},
     "output_type": "execute_result"
    }
   ],
   "source": [
    "data.describe()"
   ]
  },
  {
   "cell_type": "code",
   "execution_count": 36,
   "metadata": {},
   "outputs": [
    {
     "data": {
      "text/html": [
       "<div>\n",
       "<style scoped>\n",
       "    .dataframe tbody tr th:only-of-type {\n",
       "        vertical-align: middle;\n",
       "    }\n",
       "\n",
       "    .dataframe tbody tr th {\n",
       "        vertical-align: top;\n",
       "    }\n",
       "\n",
       "    .dataframe thead th {\n",
       "        text-align: right;\n",
       "    }\n",
       "</style>\n",
       "<table border=\"1\" class=\"dataframe\">\n",
       "  <thead>\n",
       "    <tr style=\"text-align: right;\">\n",
       "      <th></th>\n",
       "      <th>title</th>\n",
       "      <th>is_paid</th>\n",
       "      <th>num_subscribers</th>\n",
       "      <th>avg_rating</th>\n",
       "      <th>avg_rating_recent</th>\n",
       "      <th>rating</th>\n",
       "      <th>num_reviews</th>\n",
       "      <th>is_wishlisted</th>\n",
       "      <th>num_published_lectures</th>\n",
       "      <th>created</th>\n",
       "      <th>published_time</th>\n",
       "      <th>discount_price__amount</th>\n",
       "      <th>price_detail__amount</th>\n",
       "    </tr>\n",
       "  </thead>\n",
       "  <tbody>\n",
       "    <tr>\n",
       "      <th>0</th>\n",
       "      <td>The Complete SQL Bootcamp 2020: Go from Zero t...</td>\n",
       "      <td>True</td>\n",
       "      <td>295509</td>\n",
       "      <td>4.66019</td>\n",
       "      <td>4.67874</td>\n",
       "      <td>4.67874</td>\n",
       "      <td>78006</td>\n",
       "      <td>False</td>\n",
       "      <td>84</td>\n",
       "      <td>2016-02-14T22:57:48Z</td>\n",
       "      <td>2016-04-06T05:16:11Z</td>\n",
       "      <td>455.0</td>\n",
       "      <td>8640.0</td>\n",
       "    </tr>\n",
       "    <tr>\n",
       "      <th>1</th>\n",
       "      <td>Tableau 2020 A-Z: Hands-On Tableau Training fo...</td>\n",
       "      <td>True</td>\n",
       "      <td>209070</td>\n",
       "      <td>4.58956</td>\n",
       "      <td>4.60015</td>\n",
       "      <td>4.60015</td>\n",
       "      <td>54581</td>\n",
       "      <td>False</td>\n",
       "      <td>78</td>\n",
       "      <td>2016-08-22T12:10:18Z</td>\n",
       "      <td>2016-08-23T16:59:49Z</td>\n",
       "      <td>455.0</td>\n",
       "      <td>8640.0</td>\n",
       "    </tr>\n",
       "    <tr>\n",
       "      <th>2</th>\n",
       "      <td>PMP Exam Prep Seminar -  PMBOK Guide 6</td>\n",
       "      <td>True</td>\n",
       "      <td>155282</td>\n",
       "      <td>4.59491</td>\n",
       "      <td>4.59326</td>\n",
       "      <td>4.59326</td>\n",
       "      <td>52653</td>\n",
       "      <td>False</td>\n",
       "      <td>292</td>\n",
       "      <td>2017-09-26T16:32:48Z</td>\n",
       "      <td>2017-11-14T23:58:14Z</td>\n",
       "      <td>455.0</td>\n",
       "      <td>8640.0</td>\n",
       "    </tr>\n",
       "    <tr>\n",
       "      <th>3</th>\n",
       "      <td>The Complete Financial Analyst Course 2020</td>\n",
       "      <td>True</td>\n",
       "      <td>245860</td>\n",
       "      <td>4.54407</td>\n",
       "      <td>4.53772</td>\n",
       "      <td>4.53772</td>\n",
       "      <td>46447</td>\n",
       "      <td>False</td>\n",
       "      <td>338</td>\n",
       "      <td>2015-10-23T13:34:35Z</td>\n",
       "      <td>2016-01-21T01:38:48Z</td>\n",
       "      <td>455.0</td>\n",
       "      <td>8640.0</td>\n",
       "    </tr>\n",
       "    <tr>\n",
       "      <th>4</th>\n",
       "      <td>An Entire MBA in 1 Course:Award Winning Busine...</td>\n",
       "      <td>True</td>\n",
       "      <td>374836</td>\n",
       "      <td>4.47080</td>\n",
       "      <td>4.47173</td>\n",
       "      <td>4.47173</td>\n",
       "      <td>41630</td>\n",
       "      <td>False</td>\n",
       "      <td>83</td>\n",
       "      <td>2015-10-12T06:39:46Z</td>\n",
       "      <td>2016-01-11T21:39:33Z</td>\n",
       "      <td>455.0</td>\n",
       "      <td>8640.0</td>\n",
       "    </tr>\n",
       "    <tr>\n",
       "      <th>...</th>\n",
       "      <td>...</td>\n",
       "      <td>...</td>\n",
       "      <td>...</td>\n",
       "      <td>...</td>\n",
       "      <td>...</td>\n",
       "      <td>...</td>\n",
       "      <td>...</td>\n",
       "      <td>...</td>\n",
       "      <td>...</td>\n",
       "      <td>...</td>\n",
       "      <td>...</td>\n",
       "      <td>...</td>\n",
       "      <td>...</td>\n",
       "    </tr>\n",
       "    <tr>\n",
       "      <th>13603</th>\n",
       "      <td>מושגים בסיסיים באופציות חלק ב</td>\n",
       "      <td>False</td>\n",
       "      <td>47</td>\n",
       "      <td>0.00000</td>\n",
       "      <td>0.00000</td>\n",
       "      <td>0.00000</td>\n",
       "      <td>0</td>\n",
       "      <td>False</td>\n",
       "      <td>6</td>\n",
       "      <td>2020-04-15T10:20:17Z</td>\n",
       "      <td>2020-04-23T02:06:55Z</td>\n",
       "      <td>NaN</td>\n",
       "      <td>NaN</td>\n",
       "    </tr>\n",
       "    <tr>\n",
       "      <th>13604</th>\n",
       "      <td>Programa de Integridade</td>\n",
       "      <td>False</td>\n",
       "      <td>19</td>\n",
       "      <td>0.00000</td>\n",
       "      <td>0.00000</td>\n",
       "      <td>0.00000</td>\n",
       "      <td>0</td>\n",
       "      <td>False</td>\n",
       "      <td>5</td>\n",
       "      <td>2020-09-01T17:57:15Z</td>\n",
       "      <td>2020-09-03T15:26:47Z</td>\n",
       "      <td>NaN</td>\n",
       "      <td>NaN</td>\n",
       "    </tr>\n",
       "    <tr>\n",
       "      <th>13605</th>\n",
       "      <td>Goodwill and Method of Calculating Goodwill (A...</td>\n",
       "      <td>False</td>\n",
       "      <td>47</td>\n",
       "      <td>0.00000</td>\n",
       "      <td>0.00000</td>\n",
       "      <td>0.00000</td>\n",
       "      <td>0</td>\n",
       "      <td>False</td>\n",
       "      <td>5</td>\n",
       "      <td>2020-07-27T02:29:18Z</td>\n",
       "      <td>2020-07-31T12:14:40Z</td>\n",
       "      <td>NaN</td>\n",
       "      <td>NaN</td>\n",
       "    </tr>\n",
       "    <tr>\n",
       "      <th>13606</th>\n",
       "      <td>Poderoso Investidor</td>\n",
       "      <td>False</td>\n",
       "      <td>48</td>\n",
       "      <td>0.00000</td>\n",
       "      <td>0.00000</td>\n",
       "      <td>0.00000</td>\n",
       "      <td>0</td>\n",
       "      <td>False</td>\n",
       "      <td>13</td>\n",
       "      <td>2020-06-07T01:29:53Z</td>\n",
       "      <td>2020-07-15T10:35:38Z</td>\n",
       "      <td>NaN</td>\n",
       "      <td>NaN</td>\n",
       "    </tr>\n",
       "    <tr>\n",
       "      <th>13607</th>\n",
       "      <td>Acabou a Previdência e agora? -  Volume 03</td>\n",
       "      <td>True</td>\n",
       "      <td>0</td>\n",
       "      <td>0.00000</td>\n",
       "      <td>0.00000</td>\n",
       "      <td>0.00000</td>\n",
       "      <td>0</td>\n",
       "      <td>False</td>\n",
       "      <td>14</td>\n",
       "      <td>2020-03-30T19:10:58Z</td>\n",
       "      <td>2020-04-02T16:33:32Z</td>\n",
       "      <td>NaN</td>\n",
       "      <td>NaN</td>\n",
       "    </tr>\n",
       "  </tbody>\n",
       "</table>\n",
       "<p>13608 rows × 13 columns</p>\n",
       "</div>"
      ],
      "text/plain": [
       "                                                   title  is_paid  \\\n",
       "0      The Complete SQL Bootcamp 2020: Go from Zero t...     True   \n",
       "1      Tableau 2020 A-Z: Hands-On Tableau Training fo...     True   \n",
       "2                 PMP Exam Prep Seminar -  PMBOK Guide 6     True   \n",
       "3             The Complete Financial Analyst Course 2020     True   \n",
       "4      An Entire MBA in 1 Course:Award Winning Busine...     True   \n",
       "...                                                  ...      ...   \n",
       "13603                      מושגים בסיסיים באופציות חלק ב    False   \n",
       "13604                            Programa de Integridade    False   \n",
       "13605  Goodwill and Method of Calculating Goodwill (A...    False   \n",
       "13606                                Poderoso Investidor    False   \n",
       "13607         Acabou a Previdência e agora? -  Volume 03     True   \n",
       "\n",
       "       num_subscribers  avg_rating  avg_rating_recent   rating  num_reviews  \\\n",
       "0               295509     4.66019            4.67874  4.67874        78006   \n",
       "1               209070     4.58956            4.60015  4.60015        54581   \n",
       "2               155282     4.59491            4.59326  4.59326        52653   \n",
       "3               245860     4.54407            4.53772  4.53772        46447   \n",
       "4               374836     4.47080            4.47173  4.47173        41630   \n",
       "...                ...         ...                ...      ...          ...   \n",
       "13603               47     0.00000            0.00000  0.00000            0   \n",
       "13604               19     0.00000            0.00000  0.00000            0   \n",
       "13605               47     0.00000            0.00000  0.00000            0   \n",
       "13606               48     0.00000            0.00000  0.00000            0   \n",
       "13607                0     0.00000            0.00000  0.00000            0   \n",
       "\n",
       "       is_wishlisted  num_published_lectures               created  \\\n",
       "0              False                      84  2016-02-14T22:57:48Z   \n",
       "1              False                      78  2016-08-22T12:10:18Z   \n",
       "2              False                     292  2017-09-26T16:32:48Z   \n",
       "3              False                     338  2015-10-23T13:34:35Z   \n",
       "4              False                      83  2015-10-12T06:39:46Z   \n",
       "...              ...                     ...                   ...   \n",
       "13603          False                       6  2020-04-15T10:20:17Z   \n",
       "13604          False                       5  2020-09-01T17:57:15Z   \n",
       "13605          False                       5  2020-07-27T02:29:18Z   \n",
       "13606          False                      13  2020-06-07T01:29:53Z   \n",
       "13607          False                      14  2020-03-30T19:10:58Z   \n",
       "\n",
       "             published_time  discount_price__amount  price_detail__amount  \n",
       "0      2016-04-06T05:16:11Z                   455.0                8640.0  \n",
       "1      2016-08-23T16:59:49Z                   455.0                8640.0  \n",
       "2      2017-11-14T23:58:14Z                   455.0                8640.0  \n",
       "3      2016-01-21T01:38:48Z                   455.0                8640.0  \n",
       "4      2016-01-11T21:39:33Z                   455.0                8640.0  \n",
       "...                     ...                     ...                   ...  \n",
       "13603  2020-04-23T02:06:55Z                     NaN                   NaN  \n",
       "13604  2020-09-03T15:26:47Z                     NaN                   NaN  \n",
       "13605  2020-07-31T12:14:40Z                     NaN                   NaN  \n",
       "13606  2020-07-15T10:35:38Z                     NaN                   NaN  \n",
       "13607  2020-04-02T16:33:32Z                     NaN                   NaN  \n",
       "\n",
       "[13608 rows x 13 columns]"
      ]
     },
     "execution_count": 36,
     "metadata": {},
     "output_type": "execute_result"
    }
   ],
   "source": [
    "data.drop(['id', 'url', 'num_published_practice_tests', 'discount_price__price_string',\n",
    "          'price_detail__price_string', 'discount_price__currency', 'price_detail__currency'], axis=1, inplace=True)\n",
    "data"
   ]
  },
  {
   "cell_type": "code",
   "execution_count": 37,
   "metadata": {},
   "outputs": [
    {
     "data": {
      "text/html": [
       "<div>\n",
       "<style scoped>\n",
       "    .dataframe tbody tr th:only-of-type {\n",
       "        vertical-align: middle;\n",
       "    }\n",
       "\n",
       "    .dataframe tbody tr th {\n",
       "        vertical-align: top;\n",
       "    }\n",
       "\n",
       "    .dataframe thead th {\n",
       "        text-align: right;\n",
       "    }\n",
       "</style>\n",
       "<table border=\"1\" class=\"dataframe\">\n",
       "  <thead>\n",
       "    <tr style=\"text-align: right;\">\n",
       "      <th></th>\n",
       "      <th>title</th>\n",
       "      <th>paid</th>\n",
       "      <th>subscribers</th>\n",
       "      <th>avg_rating</th>\n",
       "      <th>avg_rating_recent</th>\n",
       "      <th>rating</th>\n",
       "      <th>num_reviews</th>\n",
       "      <th>wishlisted</th>\n",
       "      <th>lectures</th>\n",
       "      <th>created</th>\n",
       "      <th>publish</th>\n",
       "      <th>d_amount</th>\n",
       "      <th>p_amount</th>\n",
       "    </tr>\n",
       "  </thead>\n",
       "  <tbody>\n",
       "    <tr>\n",
       "      <th>0</th>\n",
       "      <td>The Complete SQL Bootcamp 2020: Go from Zero t...</td>\n",
       "      <td>True</td>\n",
       "      <td>295509</td>\n",
       "      <td>4.66019</td>\n",
       "      <td>4.67874</td>\n",
       "      <td>4.67874</td>\n",
       "      <td>78006</td>\n",
       "      <td>False</td>\n",
       "      <td>84</td>\n",
       "      <td>2016-02-14T22:57:48Z</td>\n",
       "      <td>2016-04-06T05:16:11Z</td>\n",
       "      <td>455.0</td>\n",
       "      <td>8640.0</td>\n",
       "    </tr>\n",
       "    <tr>\n",
       "      <th>1</th>\n",
       "      <td>Tableau 2020 A-Z: Hands-On Tableau Training fo...</td>\n",
       "      <td>True</td>\n",
       "      <td>209070</td>\n",
       "      <td>4.58956</td>\n",
       "      <td>4.60015</td>\n",
       "      <td>4.60015</td>\n",
       "      <td>54581</td>\n",
       "      <td>False</td>\n",
       "      <td>78</td>\n",
       "      <td>2016-08-22T12:10:18Z</td>\n",
       "      <td>2016-08-23T16:59:49Z</td>\n",
       "      <td>455.0</td>\n",
       "      <td>8640.0</td>\n",
       "    </tr>\n",
       "    <tr>\n",
       "      <th>2</th>\n",
       "      <td>PMP Exam Prep Seminar -  PMBOK Guide 6</td>\n",
       "      <td>True</td>\n",
       "      <td>155282</td>\n",
       "      <td>4.59491</td>\n",
       "      <td>4.59326</td>\n",
       "      <td>4.59326</td>\n",
       "      <td>52653</td>\n",
       "      <td>False</td>\n",
       "      <td>292</td>\n",
       "      <td>2017-09-26T16:32:48Z</td>\n",
       "      <td>2017-11-14T23:58:14Z</td>\n",
       "      <td>455.0</td>\n",
       "      <td>8640.0</td>\n",
       "    </tr>\n",
       "    <tr>\n",
       "      <th>3</th>\n",
       "      <td>The Complete Financial Analyst Course 2020</td>\n",
       "      <td>True</td>\n",
       "      <td>245860</td>\n",
       "      <td>4.54407</td>\n",
       "      <td>4.53772</td>\n",
       "      <td>4.53772</td>\n",
       "      <td>46447</td>\n",
       "      <td>False</td>\n",
       "      <td>338</td>\n",
       "      <td>2015-10-23T13:34:35Z</td>\n",
       "      <td>2016-01-21T01:38:48Z</td>\n",
       "      <td>455.0</td>\n",
       "      <td>8640.0</td>\n",
       "    </tr>\n",
       "    <tr>\n",
       "      <th>4</th>\n",
       "      <td>An Entire MBA in 1 Course:Award Winning Busine...</td>\n",
       "      <td>True</td>\n",
       "      <td>374836</td>\n",
       "      <td>4.47080</td>\n",
       "      <td>4.47173</td>\n",
       "      <td>4.47173</td>\n",
       "      <td>41630</td>\n",
       "      <td>False</td>\n",
       "      <td>83</td>\n",
       "      <td>2015-10-12T06:39:46Z</td>\n",
       "      <td>2016-01-11T21:39:33Z</td>\n",
       "      <td>455.0</td>\n",
       "      <td>8640.0</td>\n",
       "    </tr>\n",
       "  </tbody>\n",
       "</table>\n",
       "</div>"
      ],
      "text/plain": [
       "                                               title  paid  subscribers  \\\n",
       "0  The Complete SQL Bootcamp 2020: Go from Zero t...  True       295509   \n",
       "1  Tableau 2020 A-Z: Hands-On Tableau Training fo...  True       209070   \n",
       "2             PMP Exam Prep Seminar -  PMBOK Guide 6  True       155282   \n",
       "3         The Complete Financial Analyst Course 2020  True       245860   \n",
       "4  An Entire MBA in 1 Course:Award Winning Busine...  True       374836   \n",
       "\n",
       "   avg_rating  avg_rating_recent   rating  num_reviews  wishlisted  lectures  \\\n",
       "0     4.66019            4.67874  4.67874        78006       False        84   \n",
       "1     4.58956            4.60015  4.60015        54581       False        78   \n",
       "2     4.59491            4.59326  4.59326        52653       False       292   \n",
       "3     4.54407            4.53772  4.53772        46447       False       338   \n",
       "4     4.47080            4.47173  4.47173        41630       False        83   \n",
       "\n",
       "                created               publish  d_amount  p_amount  \n",
       "0  2016-02-14T22:57:48Z  2016-04-06T05:16:11Z     455.0    8640.0  \n",
       "1  2016-08-22T12:10:18Z  2016-08-23T16:59:49Z     455.0    8640.0  \n",
       "2  2017-09-26T16:32:48Z  2017-11-14T23:58:14Z     455.0    8640.0  \n",
       "3  2015-10-23T13:34:35Z  2016-01-21T01:38:48Z     455.0    8640.0  \n",
       "4  2015-10-12T06:39:46Z  2016-01-11T21:39:33Z     455.0    8640.0  "
      ]
     },
     "execution_count": 37,
     "metadata": {},
     "output_type": "execute_result"
    }
   ],
   "source": [
    "#rename\n",
    "\n",
    "data = data.rename(columns={\n",
    "    'is_paid':\"paid\", 'num_subscribers':\"subscribers\", 'is_wishlisted':\"wishlisted\",\n",
    "    'num_published_lectures':\"lectures\", 'published_time':\"publish\", 'discount_price__amount':\"d_amount\",\n",
    "    'price_detail__amount':\"p_amount\"\n",
    "})\n",
    "data.head()"
   ]
  },
  {
   "cell_type": "code",
   "execution_count": 38,
   "metadata": {},
   "outputs": [],
   "source": [
    "\n",
    "# data.isnull().sum().sort_values(ascending=False)\n",
    "# data=data.dropna()\n"
   ]
  },
  {
   "cell_type": "code",
   "execution_count": 39,
   "metadata": {},
   "outputs": [
    {
     "data": {
      "text/html": [
       "<div>\n",
       "<style scoped>\n",
       "    .dataframe tbody tr th:only-of-type {\n",
       "        vertical-align: middle;\n",
       "    }\n",
       "\n",
       "    .dataframe tbody tr th {\n",
       "        vertical-align: top;\n",
       "    }\n",
       "\n",
       "    .dataframe thead th {\n",
       "        text-align: right;\n",
       "    }\n",
       "</style>\n",
       "<table border=\"1\" class=\"dataframe\">\n",
       "  <thead>\n",
       "    <tr style=\"text-align: right;\">\n",
       "      <th></th>\n",
       "      <th>title</th>\n",
       "      <th>paid</th>\n",
       "      <th>subscribers</th>\n",
       "      <th>avg_rating</th>\n",
       "      <th>avg_rating_recent</th>\n",
       "      <th>rating</th>\n",
       "      <th>num_reviews</th>\n",
       "      <th>wishlisted</th>\n",
       "      <th>lectures</th>\n",
       "      <th>created</th>\n",
       "      <th>publish</th>\n",
       "      <th>d_amount</th>\n",
       "      <th>p_amount</th>\n",
       "    </tr>\n",
       "  </thead>\n",
       "  <tbody>\n",
       "    <tr>\n",
       "      <th>33</th>\n",
       "      <td>Conscious Listening</td>\n",
       "      <td>True</td>\n",
       "      <td>27681</td>\n",
       "      <td>4.47545</td>\n",
       "      <td>4.48064</td>\n",
       "      <td>4.48064</td>\n",
       "      <td>10671</td>\n",
       "      <td>False</td>\n",
       "      <td>14</td>\n",
       "      <td>2013-12-29T13:38:01Z</td>\n",
       "      <td>2013-12-31T16:51:18Z</td>\n",
       "      <td>NaN</td>\n",
       "      <td>2240.0</td>\n",
       "    </tr>\n",
       "    <tr>\n",
       "      <th>39</th>\n",
       "      <td>Emotional Intelligence at Work: Learn from You...</td>\n",
       "      <td>True</td>\n",
       "      <td>20978</td>\n",
       "      <td>4.45476</td>\n",
       "      <td>4.45477</td>\n",
       "      <td>4.45477</td>\n",
       "      <td>9594</td>\n",
       "      <td>False</td>\n",
       "      <td>21</td>\n",
       "      <td>2019-02-28T23:37:10Z</td>\n",
       "      <td>2019-03-18T14:09:54Z</td>\n",
       "      <td>NaN</td>\n",
       "      <td>3200.0</td>\n",
       "    </tr>\n",
       "    <tr>\n",
       "      <th>40</th>\n",
       "      <td>Powerful speaking</td>\n",
       "      <td>True</td>\n",
       "      <td>34296</td>\n",
       "      <td>4.43750</td>\n",
       "      <td>4.45212</td>\n",
       "      <td>4.45212</td>\n",
       "      <td>9520</td>\n",
       "      <td>False</td>\n",
       "      <td>19</td>\n",
       "      <td>2013-12-29T15:38:47Z</td>\n",
       "      <td>2013-12-31T16:52:41Z</td>\n",
       "      <td>NaN</td>\n",
       "      <td>2240.0</td>\n",
       "    </tr>\n",
       "    <tr>\n",
       "      <th>80</th>\n",
       "      <td>Options Trading Basics (3-Course Bundle)</td>\n",
       "      <td>True</td>\n",
       "      <td>28932</td>\n",
       "      <td>4.42527</td>\n",
       "      <td>4.41998</td>\n",
       "      <td>4.41998</td>\n",
       "      <td>4881</td>\n",
       "      <td>False</td>\n",
       "      <td>47</td>\n",
       "      <td>2013-02-24T14:47:08Z</td>\n",
       "      <td>2013-02-25T11:36:06Z</td>\n",
       "      <td>NaN</td>\n",
       "      <td>9600.0</td>\n",
       "    </tr>\n",
       "    <tr>\n",
       "      <th>90</th>\n",
       "      <td>Project Management Professional (PMP)® - 35 Co...</td>\n",
       "      <td>True</td>\n",
       "      <td>27653</td>\n",
       "      <td>4.40769</td>\n",
       "      <td>4.41472</td>\n",
       "      <td>4.41472</td>\n",
       "      <td>4579</td>\n",
       "      <td>False</td>\n",
       "      <td>345</td>\n",
       "      <td>2014-10-27T16:27:34Z</td>\n",
       "      <td>2014-11-05T21:07:38Z</td>\n",
       "      <td>NaN</td>\n",
       "      <td>12800.0</td>\n",
       "    </tr>\n",
       "  </tbody>\n",
       "</table>\n",
       "</div>"
      ],
      "text/plain": [
       "                                                title  paid  subscribers  \\\n",
       "33                                Conscious Listening  True        27681   \n",
       "39  Emotional Intelligence at Work: Learn from You...  True        20978   \n",
       "40                                  Powerful speaking  True        34296   \n",
       "80           Options Trading Basics (3-Course Bundle)  True        28932   \n",
       "90  Project Management Professional (PMP)® - 35 Co...  True        27653   \n",
       "\n",
       "    avg_rating  avg_rating_recent   rating  num_reviews  wishlisted  lectures  \\\n",
       "33     4.47545            4.48064  4.48064        10671       False        14   \n",
       "39     4.45476            4.45477  4.45477         9594       False        21   \n",
       "40     4.43750            4.45212  4.45212         9520       False        19   \n",
       "80     4.42527            4.41998  4.41998         4881       False        47   \n",
       "90     4.40769            4.41472  4.41472         4579       False       345   \n",
       "\n",
       "                 created               publish  d_amount  p_amount  \n",
       "33  2013-12-29T13:38:01Z  2013-12-31T16:51:18Z       NaN    2240.0  \n",
       "39  2019-02-28T23:37:10Z  2019-03-18T14:09:54Z       NaN    3200.0  \n",
       "40  2013-12-29T15:38:47Z  2013-12-31T16:52:41Z       NaN    2240.0  \n",
       "80  2013-02-24T14:47:08Z  2013-02-25T11:36:06Z       NaN    9600.0  \n",
       "90  2014-10-27T16:27:34Z  2014-11-05T21:07:38Z       NaN   12800.0  "
      ]
     },
     "execution_count": 39,
     "metadata": {},
     "output_type": "execute_result"
    }
   ],
   "source": [
    "data[data['d_amount'].isna()].head(5)"
   ]
  },
  {
   "cell_type": "code",
   "execution_count": 40,
   "metadata": {},
   "outputs": [
    {
     "data": {
      "text/html": [
       "<div>\n",
       "<style scoped>\n",
       "    .dataframe tbody tr th:only-of-type {\n",
       "        vertical-align: middle;\n",
       "    }\n",
       "\n",
       "    .dataframe tbody tr th {\n",
       "        vertical-align: top;\n",
       "    }\n",
       "\n",
       "    .dataframe thead th {\n",
       "        text-align: right;\n",
       "    }\n",
       "</style>\n",
       "<table border=\"1\" class=\"dataframe\">\n",
       "  <thead>\n",
       "    <tr style=\"text-align: right;\">\n",
       "      <th></th>\n",
       "      <th>title</th>\n",
       "      <th>paid</th>\n",
       "      <th>subscribers</th>\n",
       "      <th>avg_rating</th>\n",
       "      <th>avg_rating_recent</th>\n",
       "      <th>rating</th>\n",
       "      <th>num_reviews</th>\n",
       "      <th>wishlisted</th>\n",
       "      <th>lectures</th>\n",
       "      <th>created</th>\n",
       "      <th>publish</th>\n",
       "      <th>d_amount</th>\n",
       "      <th>p_amount</th>\n",
       "    </tr>\n",
       "  </thead>\n",
       "  <tbody>\n",
       "    <tr>\n",
       "      <th>11484</th>\n",
       "      <td>Stock Market Investing for Beginners</td>\n",
       "      <td>False</td>\n",
       "      <td>259888</td>\n",
       "      <td>4.34928</td>\n",
       "      <td>4.35902</td>\n",
       "      <td>4.35902</td>\n",
       "      <td>23635</td>\n",
       "      <td>False</td>\n",
       "      <td>15</td>\n",
       "      <td>2013-12-14T15:04:10Z</td>\n",
       "      <td>2013-12-25T19:53:34Z</td>\n",
       "      <td>NaN</td>\n",
       "      <td>NaN</td>\n",
       "    </tr>\n",
       "    <tr>\n",
       "      <th>11485</th>\n",
       "      <td>Introduction to Financial Modeling</td>\n",
       "      <td>False</td>\n",
       "      <td>105131</td>\n",
       "      <td>4.20109</td>\n",
       "      <td>4.23170</td>\n",
       "      <td>4.23170</td>\n",
       "      <td>7378</td>\n",
       "      <td>False</td>\n",
       "      <td>8</td>\n",
       "      <td>2014-01-23T22:03:31Z</td>\n",
       "      <td>2014-05-27T16:22:16Z</td>\n",
       "      <td>NaN</td>\n",
       "      <td>NaN</td>\n",
       "    </tr>\n",
       "    <tr>\n",
       "      <th>11486</th>\n",
       "      <td>Introduction to Corporate Finance (Mergers &amp; A...</td>\n",
       "      <td>False</td>\n",
       "      <td>43396</td>\n",
       "      <td>4.42509</td>\n",
       "      <td>4.43953</td>\n",
       "      <td>4.43953</td>\n",
       "      <td>4461</td>\n",
       "      <td>False</td>\n",
       "      <td>30</td>\n",
       "      <td>2016-11-19T22:36:24Z</td>\n",
       "      <td>2017-02-28T16:14:06Z</td>\n",
       "      <td>NaN</td>\n",
       "      <td>NaN</td>\n",
       "    </tr>\n",
       "    <tr>\n",
       "      <th>11487</th>\n",
       "      <td>Learn and Master the Basics of Finance</td>\n",
       "      <td>False</td>\n",
       "      <td>43106</td>\n",
       "      <td>4.30682</td>\n",
       "      <td>4.33887</td>\n",
       "      <td>4.33887</td>\n",
       "      <td>3590</td>\n",
       "      <td>False</td>\n",
       "      <td>39</td>\n",
       "      <td>2016-03-28T13:31:11Z</td>\n",
       "      <td>2016-09-25T20:37:51Z</td>\n",
       "      <td>NaN</td>\n",
       "      <td>NaN</td>\n",
       "    </tr>\n",
       "    <tr>\n",
       "      <th>11488</th>\n",
       "      <td>Stock Market Foundations</td>\n",
       "      <td>False</td>\n",
       "      <td>56172</td>\n",
       "      <td>4.15925</td>\n",
       "      <td>4.20690</td>\n",
       "      <td>4.20690</td>\n",
       "      <td>3083</td>\n",
       "      <td>False</td>\n",
       "      <td>9</td>\n",
       "      <td>2014-03-31T18:38:43Z</td>\n",
       "      <td>2014-03-31T21:35:06Z</td>\n",
       "      <td>NaN</td>\n",
       "      <td>NaN</td>\n",
       "    </tr>\n",
       "  </tbody>\n",
       "</table>\n",
       "</div>"
      ],
      "text/plain": [
       "                                                   title   paid  subscribers  \\\n",
       "11484               Stock Market Investing for Beginners  False       259888   \n",
       "11485                 Introduction to Financial Modeling  False       105131   \n",
       "11486  Introduction to Corporate Finance (Mergers & A...  False        43396   \n",
       "11487             Learn and Master the Basics of Finance  False        43106   \n",
       "11488                           Stock Market Foundations  False        56172   \n",
       "\n",
       "       avg_rating  avg_rating_recent   rating  num_reviews  wishlisted  \\\n",
       "11484     4.34928            4.35902  4.35902        23635       False   \n",
       "11485     4.20109            4.23170  4.23170         7378       False   \n",
       "11486     4.42509            4.43953  4.43953         4461       False   \n",
       "11487     4.30682            4.33887  4.33887         3590       False   \n",
       "11488     4.15925            4.20690  4.20690         3083       False   \n",
       "\n",
       "       lectures               created               publish  d_amount  \\\n",
       "11484        15  2013-12-14T15:04:10Z  2013-12-25T19:53:34Z       NaN   \n",
       "11485         8  2014-01-23T22:03:31Z  2014-05-27T16:22:16Z       NaN   \n",
       "11486        30  2016-11-19T22:36:24Z  2017-02-28T16:14:06Z       NaN   \n",
       "11487        39  2016-03-28T13:31:11Z  2016-09-25T20:37:51Z       NaN   \n",
       "11488         9  2014-03-31T18:38:43Z  2014-03-31T21:35:06Z       NaN   \n",
       "\n",
       "       p_amount  \n",
       "11484       NaN  \n",
       "11485       NaN  \n",
       "11486       NaN  \n",
       "11487       NaN  \n",
       "11488       NaN  "
      ]
     },
     "execution_count": 40,
     "metadata": {},
     "output_type": "execute_result"
    }
   ],
   "source": [
    "data[data['p_amount'].isna()].head(5)"
   ]
  },
  {
   "cell_type": "markdown",
   "metadata": {},
   "source": [
    "Data Visualization "
   ]
  },
  {
   "cell_type": "code",
   "execution_count": 41,
   "metadata": {},
   "outputs": [],
   "source": [
    "def get_three(col):\n",
    "    print(\"Mean: \", np.mean(data[~data[col].isna()][col].to_list()))\n",
    "    print(\"Median: \", np.median(data[~data[col].isna()][col].to_list()))\n",
    "    print(\"Mod: \", stats.mode(data[~data[col].isna()][col].to_list())[0][0])\n",
    "    \n",
    "    plt.figure(figsize=(15,7))\n",
    "    ax= sns.countplot(x=col, data=data)\n",
    "    plt.xticks(rotation=90)\n",
    "    plt.show()"
   ]
  },
  {
   "cell_type": "code",
   "execution_count": 42,
   "metadata": {
    "scrolled": true
   },
   "outputs": [
    {
     "name": "stdout",
     "output_type": "stream",
     "text": [
      "Mean:  493.9437935272429\n",
      "Median:  455.0\n",
      "Mod:  455.0\n"
     ]
    },
    {
     "data": {
      "image/png": "[encoded data removed]",
      "text/plain": [
       "<Figure size 1080x504 with 1 Axes>"
      ]
     },
     "metadata": {},
     "output_type": "display_data"
    },
    {
     "name": "stdout",
     "output_type": "stream",
     "text": [
      "Mean:  4646.992601632217\n",
      "Median:  3200.0\n",
      "Mod:  8640.0\n"
     ]
    },
    {
     "data": {
      "image/png": "[encoded data removed]",
      "text/plain": [
       "<Figure size 1080x504 with 1 Axes>"
      ]
     },
     "metadata": {},
     "output_type": "display_data"
    }
   ],
   "source": [
    "get_three(\"d_amount\")\n",
    "get_three(\"p_amount\")"
   ]
  },
  {
   "cell_type": "code",
   "execution_count": 43,
   "metadata": {
    "scrolled": true
   },
   "outputs": [
    {
     "data": {
      "image/png": "[encoded data removed]",
      "text/plain": [
       "<Figure size 432x288 with 1 Axes>"
      ]
     },
     "metadata": {},
     "output_type": "display_data"
    }
   ],
   "source": [
    "plt.style.use('fivethirtyeight')\n",
    "sns.distplot(data[~data['p_amount'].isna()]['p_amount'].to_list(), color='blue')\n",
    "plt.show()"
   ]
  },
  {
   "cell_type": "code",
   "execution_count": 44,
   "metadata": {},
   "outputs": [],
   "source": [
    "# d_amount_nan_index = data[data['d_amount'].isna().index.to_list()]\n",
    "# p_amount_nan_index= data[data['p_amount'].isna().index.to+list()]\n",
    "\n",
    "# data.loc[d_amount_nan_index]=455.0\n",
    "# data.loc[p_amount_nan_index] = 3200.0\n",
    "\n"
   ]
  },
  {
   "cell_type": "code",
   "execution_count": 45,
   "metadata": {},
   "outputs": [
    {
     "name": "stdout",
     "output_type": "stream",
     "text": [
      "d_amount nan count : 1403\n",
      "p_amount nan count : 497\n"
     ]
    }
   ],
   "source": [
    "print(\"d_amount nan count :\", data[\"d_amount\"].isnull().sum())\n",
    "print(\"p_amount nan count :\", data[\"p_amount\"].isnull().sum())"
   ]
  },
  {
   "cell_type": "code",
   "execution_count": 46,
   "metadata": {},
   "outputs": [
    {
     "data": {
      "text/plain": [
       "<matplotlib.axes._subplots.AxesSubplot at 0x26e87dfe040>"
      ]
     },
     "execution_count": 46,
     "metadata": {},
     "output_type": "execute_result"
    },
    {
     "data": {
      "image/png": "[encoded data removed]",
      "text/plain": [
       "<Figure size 1080x360 with 1 Axes>"
      ]
     },
     "metadata": {},
     "output_type": "display_data"
    }
   ],
   "source": [
    "plt.figure(figsize=(15,5))\n",
    "sns.boxplot(x=data[\"subscribers\"])"
   ]
  },
  {
   "cell_type": "code",
   "execution_count": 47,
   "metadata": {},
   "outputs": [
    {
     "data": {
      "image/png": "[encoded data removed]",
      "text/plain": [
       "<Figure size 1080x360 with 1 Axes>"
      ]
     },
     "metadata": {},
     "output_type": "display_data"
    },
    {
     "data": {
      "image/png": "[encoded data removed]",
      "text/plain": [
       "<Figure size 1080x360 with 1 Axes>"
      ]
     },
     "metadata": {},
     "output_type": "display_data"
    },
    {
     "data": {
      "image/png": "[encoded data removed]",
      "text/plain": [
       "<Figure size 1080x360 with 1 Axes>"
      ]
     },
     "metadata": {},
     "output_type": "display_data"
    },
    {
     "data": {
      "image/png": "[encoded data removed]",
      "text/plain": [
       "<Figure size 1080x360 with 1 Axes>"
      ]
     },
     "metadata": {},
     "output_type": "display_data"
    },
    {
     "data": {
      "image/png": "[encoded data removed]",
      "text/plain": [
       "<Figure size 1080x360 with 1 Axes>"
      ]
     },
     "metadata": {},
     "output_type": "display_data"
    }
   ],
   "source": [
    "for col in data.select_dtypes('float64').columns:\n",
    "    plt.figure(figsize=(15,5))\n",
    "    plt.title(col)\n",
    "    sns.boxplot(x=data[col])"
   ]
  },
  {
   "cell_type": "code",
   "execution_count": 48,
   "metadata": {},
   "outputs": [
    {
     "data": {
      "image/png": "[encoded data removed]",
      "text/plain": [
       "<Figure size 1080x360 with 1 Axes>"
      ]
     },
     "metadata": {},
     "output_type": "display_data"
    },
    {
     "data": {
      "image/png": "[encoded data removed]",
      "text/plain": [
       "<Figure size 1080x360 with 1 Axes>"
      ]
     },
     "metadata": {},
     "output_type": "display_data"
    },
    {
     "data": {
      "image/png": "[encoded data removed]",
      "text/plain": [
       "<Figure size 1080x360 with 1 Axes>"
      ]
     },
     "metadata": {},
     "output_type": "display_data"
    }
   ],
   "source": [
    "for col in data.select_dtypes('int64').columns:\n",
    "    plt.figure(figsize=(15,5))\n",
    "    plt.title(col)\n",
    "    sns.boxplot(x=data[col])"
   ]
  },
  {
   "cell_type": "code",
   "execution_count": 49,
   "metadata": {},
   "outputs": [
    {
     "name": "stdout",
     "output_type": "stream",
     "text": [
      "for avg_rating:  0\n",
      "for avg_rating_recent:  0\n"
     ]
    }
   ],
   "source": [
    "print(\"for avg_rating: \", len(data[data['avg_rating'] > 5]))\n",
    "print(\"for avg_rating_recent: \", len(data[data[\"avg_rating_recent\"] > 5]))"
   ]
  },
  {
   "cell_type": "code",
   "execution_count": 50,
   "metadata": {},
   "outputs": [
    {
     "data": {
      "text/plain": [
       "True     13112\n",
       "False      496\n",
       "Name: paid, dtype: int64"
      ]
     },
     "execution_count": 50,
     "metadata": {},
     "output_type": "execute_result"
    }
   ],
   "source": [
    "data['paid'].value_counts()"
   ]
  },
  {
   "cell_type": "code",
   "execution_count": 51,
   "metadata": {},
   "outputs": [],
   "source": [
    "data.drop(['paid'], axis=1, inplace=True)\n",
    "data.drop(['wishlisted'], axis=1, inplace=True)\n"
   ]
  },
  {
   "cell_type": "code",
   "execution_count": 52,
   "metadata": {
    "scrolled": true
   },
   "outputs": [
    {
     "data": {
      "text/html": [
       "<div>\n",
       "<style scoped>\n",
       "    .dataframe tbody tr th:only-of-type {\n",
       "        vertical-align: middle;\n",
       "    }\n",
       "\n",
       "    .dataframe tbody tr th {\n",
       "        vertical-align: top;\n",
       "    }\n",
       "\n",
       "    .dataframe thead th {\n",
       "        text-align: right;\n",
       "    }\n",
       "</style>\n",
       "<table border=\"1\" class=\"dataframe\">\n",
       "  <thead>\n",
       "    <tr style=\"text-align: right;\">\n",
       "      <th></th>\n",
       "      <th>title</th>\n",
       "      <th>subscribers</th>\n",
       "      <th>avg_rating</th>\n",
       "      <th>avg_rating_recent</th>\n",
       "      <th>rating</th>\n",
       "      <th>num_reviews</th>\n",
       "      <th>lectures</th>\n",
       "      <th>created</th>\n",
       "      <th>publish</th>\n",
       "      <th>d_amount</th>\n",
       "      <th>p_amount</th>\n",
       "    </tr>\n",
       "  </thead>\n",
       "  <tbody>\n",
       "    <tr>\n",
       "      <th>0</th>\n",
       "      <td>The Complete SQL Bootcamp 2020: Go from Zero t...</td>\n",
       "      <td>295509</td>\n",
       "      <td>4.66019</td>\n",
       "      <td>4.67874</td>\n",
       "      <td>4.67874</td>\n",
       "      <td>78006</td>\n",
       "      <td>84</td>\n",
       "      <td>2016-02-14T22:57:48Z</td>\n",
       "      <td>2016-04-06T05:16:11Z</td>\n",
       "      <td>455.0</td>\n",
       "      <td>8640.0</td>\n",
       "    </tr>\n",
       "    <tr>\n",
       "      <th>1</th>\n",
       "      <td>Tableau 2020 A-Z: Hands-On Tableau Training fo...</td>\n",
       "      <td>209070</td>\n",
       "      <td>4.58956</td>\n",
       "      <td>4.60015</td>\n",
       "      <td>4.60015</td>\n",
       "      <td>54581</td>\n",
       "      <td>78</td>\n",
       "      <td>2016-08-22T12:10:18Z</td>\n",
       "      <td>2016-08-23T16:59:49Z</td>\n",
       "      <td>455.0</td>\n",
       "      <td>8640.0</td>\n",
       "    </tr>\n",
       "    <tr>\n",
       "      <th>2</th>\n",
       "      <td>PMP Exam Prep Seminar -  PMBOK Guide 6</td>\n",
       "      <td>155282</td>\n",
       "      <td>4.59491</td>\n",
       "      <td>4.59326</td>\n",
       "      <td>4.59326</td>\n",
       "      <td>52653</td>\n",
       "      <td>292</td>\n",
       "      <td>2017-09-26T16:32:48Z</td>\n",
       "      <td>2017-11-14T23:58:14Z</td>\n",
       "      <td>455.0</td>\n",
       "      <td>8640.0</td>\n",
       "    </tr>\n",
       "    <tr>\n",
       "      <th>3</th>\n",
       "      <td>The Complete Financial Analyst Course 2020</td>\n",
       "      <td>245860</td>\n",
       "      <td>4.54407</td>\n",
       "      <td>4.53772</td>\n",
       "      <td>4.53772</td>\n",
       "      <td>46447</td>\n",
       "      <td>338</td>\n",
       "      <td>2015-10-23T13:34:35Z</td>\n",
       "      <td>2016-01-21T01:38:48Z</td>\n",
       "      <td>455.0</td>\n",
       "      <td>8640.0</td>\n",
       "    </tr>\n",
       "    <tr>\n",
       "      <th>4</th>\n",
       "      <td>An Entire MBA in 1 Course:Award Winning Busine...</td>\n",
       "      <td>374836</td>\n",
       "      <td>4.47080</td>\n",
       "      <td>4.47173</td>\n",
       "      <td>4.47173</td>\n",
       "      <td>41630</td>\n",
       "      <td>83</td>\n",
       "      <td>2015-10-12T06:39:46Z</td>\n",
       "      <td>2016-01-11T21:39:33Z</td>\n",
       "      <td>455.0</td>\n",
       "      <td>8640.0</td>\n",
       "    </tr>\n",
       "    <tr>\n",
       "      <th>...</th>\n",
       "      <td>...</td>\n",
       "      <td>...</td>\n",
       "      <td>...</td>\n",
       "      <td>...</td>\n",
       "      <td>...</td>\n",
       "      <td>...</td>\n",
       "      <td>...</td>\n",
       "      <td>...</td>\n",
       "      <td>...</td>\n",
       "      <td>...</td>\n",
       "      <td>...</td>\n",
       "    </tr>\n",
       "    <tr>\n",
       "      <th>13603</th>\n",
       "      <td>מושגים בסיסיים באופציות חלק ב</td>\n",
       "      <td>47</td>\n",
       "      <td>0.00000</td>\n",
       "      <td>0.00000</td>\n",
       "      <td>0.00000</td>\n",
       "      <td>0</td>\n",
       "      <td>6</td>\n",
       "      <td>2020-04-15T10:20:17Z</td>\n",
       "      <td>2020-04-23T02:06:55Z</td>\n",
       "      <td>NaN</td>\n",
       "      <td>NaN</td>\n",
       "    </tr>\n",
       "    <tr>\n",
       "      <th>13604</th>\n",
       "      <td>Programa de Integridade</td>\n",
       "      <td>19</td>\n",
       "      <td>0.00000</td>\n",
       "      <td>0.00000</td>\n",
       "      <td>0.00000</td>\n",
       "      <td>0</td>\n",
       "      <td>5</td>\n",
       "      <td>2020-09-01T17:57:15Z</td>\n",
       "      <td>2020-09-03T15:26:47Z</td>\n",
       "      <td>NaN</td>\n",
       "      <td>NaN</td>\n",
       "    </tr>\n",
       "    <tr>\n",
       "      <th>13605</th>\n",
       "      <td>Goodwill and Method of Calculating Goodwill (A...</td>\n",
       "      <td>47</td>\n",
       "      <td>0.00000</td>\n",
       "      <td>0.00000</td>\n",
       "      <td>0.00000</td>\n",
       "      <td>0</td>\n",
       "      <td>5</td>\n",
       "      <td>2020-07-27T02:29:18Z</td>\n",
       "      <td>2020-07-31T12:14:40Z</td>\n",
       "      <td>NaN</td>\n",
       "      <td>NaN</td>\n",
       "    </tr>\n",
       "    <tr>\n",
       "      <th>13606</th>\n",
       "      <td>Poderoso Investidor</td>\n",
       "      <td>48</td>\n",
       "      <td>0.00000</td>\n",
       "      <td>0.00000</td>\n",
       "      <td>0.00000</td>\n",
       "      <td>0</td>\n",
       "      <td>13</td>\n",
       "      <td>2020-06-07T01:29:53Z</td>\n",
       "      <td>2020-07-15T10:35:38Z</td>\n",
       "      <td>NaN</td>\n",
       "      <td>NaN</td>\n",
       "    </tr>\n",
       "    <tr>\n",
       "      <th>13607</th>\n",
       "      <td>Acabou a Previdência e agora? -  Volume 03</td>\n",
       "      <td>0</td>\n",
       "      <td>0.00000</td>\n",
       "      <td>0.00000</td>\n",
       "      <td>0.00000</td>\n",
       "      <td>0</td>\n",
       "      <td>14</td>\n",
       "      <td>2020-03-30T19:10:58Z</td>\n",
       "      <td>2020-04-02T16:33:32Z</td>\n",
       "      <td>NaN</td>\n",
       "      <td>NaN</td>\n",
       "    </tr>\n",
       "  </tbody>\n",
       "</table>\n",
       "<p>13608 rows × 11 columns</p>\n",
       "</div>"
      ],
      "text/plain": [
       "                                                   title  subscribers  \\\n",
       "0      The Complete SQL Bootcamp 2020: Go from Zero t...       295509   \n",
       "1      Tableau 2020 A-Z: Hands-On Tableau Training fo...       209070   \n",
       "2                 PMP Exam Prep Seminar -  PMBOK Guide 6       155282   \n",
       "3             The Complete Financial Analyst Course 2020       245860   \n",
       "4      An Entire MBA in 1 Course:Award Winning Busine...       374836   \n",
       "...                                                  ...          ...   \n",
       "13603                      מושגים בסיסיים באופציות חלק ב           47   \n",
       "13604                            Programa de Integridade           19   \n",
       "13605  Goodwill and Method of Calculating Goodwill (A...           47   \n",
       "13606                                Poderoso Investidor           48   \n",
       "13607         Acabou a Previdência e agora? -  Volume 03            0   \n",
       "\n",
       "       avg_rating  avg_rating_recent   rating  num_reviews  lectures  \\\n",
       "0         4.66019            4.67874  4.67874        78006        84   \n",
       "1         4.58956            4.60015  4.60015        54581        78   \n",
       "2         4.59491            4.59326  4.59326        52653       292   \n",
       "3         4.54407            4.53772  4.53772        46447       338   \n",
       "4         4.47080            4.47173  4.47173        41630        83   \n",
       "...           ...                ...      ...          ...       ...   \n",
       "13603     0.00000            0.00000  0.00000            0         6   \n",
       "13604     0.00000            0.00000  0.00000            0         5   \n",
       "13605     0.00000            0.00000  0.00000            0         5   \n",
       "13606     0.00000            0.00000  0.00000            0        13   \n",
       "13607     0.00000            0.00000  0.00000            0        14   \n",
       "\n",
       "                    created               publish  d_amount  p_amount  \n",
       "0      2016-02-14T22:57:48Z  2016-04-06T05:16:11Z     455.0    8640.0  \n",
       "1      2016-08-22T12:10:18Z  2016-08-23T16:59:49Z     455.0    8640.0  \n",
       "2      2017-09-26T16:32:48Z  2017-11-14T23:58:14Z     455.0    8640.0  \n",
       "3      2015-10-23T13:34:35Z  2016-01-21T01:38:48Z     455.0    8640.0  \n",
       "4      2015-10-12T06:39:46Z  2016-01-11T21:39:33Z     455.0    8640.0  \n",
       "...                     ...                   ...       ...       ...  \n",
       "13603  2020-04-15T10:20:17Z  2020-04-23T02:06:55Z       NaN       NaN  \n",
       "13604  2020-09-01T17:57:15Z  2020-09-03T15:26:47Z       NaN       NaN  \n",
       "13605  2020-07-27T02:29:18Z  2020-07-31T12:14:40Z       NaN       NaN  \n",
       "13606  2020-06-07T01:29:53Z  2020-07-15T10:35:38Z       NaN       NaN  \n",
       "13607  2020-03-30T19:10:58Z  2020-04-02T16:33:32Z       NaN       NaN  \n",
       "\n",
       "[13608 rows x 11 columns]"
      ]
     },
     "execution_count": 52,
     "metadata": {},
     "output_type": "execute_result"
    }
   ],
   "source": [
    "data"
   ]
  },
  {
   "cell_type": "code",
   "execution_count": 53,
   "metadata": {},
   "outputs": [
    {
     "name": "stdout",
     "output_type": "stream",
     "text": [
      "Max_num_reviews: 78006\n",
      "Min_num_reviews: 0\n",
      "Mean_num_review: 243.16982657260436\n"
     ]
    }
   ],
   "source": [
    "print('Max_num_reviews:', np.max(data['num_reviews'].to_list()))\n",
    "print('Min_num_reviews:', np.min(data['num_reviews'].to_list()))\n",
    "print('Mean_num_review:', np.mean(data['num_reviews'].to_list()))"
   ]
  },
  {
   "cell_type": "markdown",
   "metadata": {},
   "source": [
    "The creation and release dates of the courses are important to find out how long these courses were prepared by the course provider. But there is too much detail. The year, month and day will be sufficient. That's why we have to date conversion.\n",
    "\n"
   ]
  },
  {
   "cell_type": "code",
   "execution_count": 54,
   "metadata": {},
   "outputs": [],
   "source": [
    "data['created'] = pd.to_datetime(data['created'].to_list()).strftime('%m-%d-%Y').values\n",
    "data['publish'] = pd.to_datetime(data['publish'].to_list()).strftime('%m-%d-%Y').values"
   ]
  },
  {
   "cell_type": "code",
   "execution_count": 55,
   "metadata": {},
   "outputs": [
    {
     "data": {
      "text/html": [
       "<div>\n",
       "<style scoped>\n",
       "    .dataframe tbody tr th:only-of-type {\n",
       "        vertical-align: middle;\n",
       "    }\n",
       "\n",
       "    .dataframe tbody tr th {\n",
       "        vertical-align: top;\n",
       "    }\n",
       "\n",
       "    .dataframe thead th {\n",
       "        text-align: right;\n",
       "    }\n",
       "</style>\n",
       "<table border=\"1\" class=\"dataframe\">\n",
       "  <thead>\n",
       "    <tr style=\"text-align: right;\">\n",
       "      <th></th>\n",
       "      <th>title</th>\n",
       "      <th>subscribers</th>\n",
       "      <th>avg_rating</th>\n",
       "      <th>avg_rating_recent</th>\n",
       "      <th>rating</th>\n",
       "      <th>num_reviews</th>\n",
       "      <th>lectures</th>\n",
       "      <th>created</th>\n",
       "      <th>publish</th>\n",
       "      <th>d_amount</th>\n",
       "      <th>p_amount</th>\n",
       "    </tr>\n",
       "  </thead>\n",
       "  <tbody>\n",
       "    <tr>\n",
       "      <th>0</th>\n",
       "      <td>The Complete SQL Bootcamp 2020: Go from Zero t...</td>\n",
       "      <td>295509</td>\n",
       "      <td>4.66019</td>\n",
       "      <td>4.67874</td>\n",
       "      <td>4.67874</td>\n",
       "      <td>78006</td>\n",
       "      <td>84</td>\n",
       "      <td>02-14-2016</td>\n",
       "      <td>04-06-2016</td>\n",
       "      <td>455.0</td>\n",
       "      <td>8640.0</td>\n",
       "    </tr>\n",
       "    <tr>\n",
       "      <th>1</th>\n",
       "      <td>Tableau 2020 A-Z: Hands-On Tableau Training fo...</td>\n",
       "      <td>209070</td>\n",
       "      <td>4.58956</td>\n",
       "      <td>4.60015</td>\n",
       "      <td>4.60015</td>\n",
       "      <td>54581</td>\n",
       "      <td>78</td>\n",
       "      <td>08-22-2016</td>\n",
       "      <td>08-23-2016</td>\n",
       "      <td>455.0</td>\n",
       "      <td>8640.0</td>\n",
       "    </tr>\n",
       "    <tr>\n",
       "      <th>2</th>\n",
       "      <td>PMP Exam Prep Seminar -  PMBOK Guide 6</td>\n",
       "      <td>155282</td>\n",
       "      <td>4.59491</td>\n",
       "      <td>4.59326</td>\n",
       "      <td>4.59326</td>\n",
       "      <td>52653</td>\n",
       "      <td>292</td>\n",
       "      <td>09-26-2017</td>\n",
       "      <td>11-14-2017</td>\n",
       "      <td>455.0</td>\n",
       "      <td>8640.0</td>\n",
       "    </tr>\n",
       "    <tr>\n",
       "      <th>3</th>\n",
       "      <td>The Complete Financial Analyst Course 2020</td>\n",
       "      <td>245860</td>\n",
       "      <td>4.54407</td>\n",
       "      <td>4.53772</td>\n",
       "      <td>4.53772</td>\n",
       "      <td>46447</td>\n",
       "      <td>338</td>\n",
       "      <td>10-23-2015</td>\n",
       "      <td>01-21-2016</td>\n",
       "      <td>455.0</td>\n",
       "      <td>8640.0</td>\n",
       "    </tr>\n",
       "    <tr>\n",
       "      <th>4</th>\n",
       "      <td>An Entire MBA in 1 Course:Award Winning Busine...</td>\n",
       "      <td>374836</td>\n",
       "      <td>4.47080</td>\n",
       "      <td>4.47173</td>\n",
       "      <td>4.47173</td>\n",
       "      <td>41630</td>\n",
       "      <td>83</td>\n",
       "      <td>10-12-2015</td>\n",
       "      <td>01-11-2016</td>\n",
       "      <td>455.0</td>\n",
       "      <td>8640.0</td>\n",
       "    </tr>\n",
       "    <tr>\n",
       "      <th>...</th>\n",
       "      <td>...</td>\n",
       "      <td>...</td>\n",
       "      <td>...</td>\n",
       "      <td>...</td>\n",
       "      <td>...</td>\n",
       "      <td>...</td>\n",
       "      <td>...</td>\n",
       "      <td>...</td>\n",
       "      <td>...</td>\n",
       "      <td>...</td>\n",
       "      <td>...</td>\n",
       "    </tr>\n",
       "    <tr>\n",
       "      <th>13603</th>\n",
       "      <td>מושגים בסיסיים באופציות חלק ב</td>\n",
       "      <td>47</td>\n",
       "      <td>0.00000</td>\n",
       "      <td>0.00000</td>\n",
       "      <td>0.00000</td>\n",
       "      <td>0</td>\n",
       "      <td>6</td>\n",
       "      <td>04-15-2020</td>\n",
       "      <td>04-23-2020</td>\n",
       "      <td>NaN</td>\n",
       "      <td>NaN</td>\n",
       "    </tr>\n",
       "    <tr>\n",
       "      <th>13604</th>\n",
       "      <td>Programa de Integridade</td>\n",
       "      <td>19</td>\n",
       "      <td>0.00000</td>\n",
       "      <td>0.00000</td>\n",
       "      <td>0.00000</td>\n",
       "      <td>0</td>\n",
       "      <td>5</td>\n",
       "      <td>09-01-2020</td>\n",
       "      <td>09-03-2020</td>\n",
       "      <td>NaN</td>\n",
       "      <td>NaN</td>\n",
       "    </tr>\n",
       "    <tr>\n",
       "      <th>13605</th>\n",
       "      <td>Goodwill and Method of Calculating Goodwill (A...</td>\n",
       "      <td>47</td>\n",
       "      <td>0.00000</td>\n",
       "      <td>0.00000</td>\n",
       "      <td>0.00000</td>\n",
       "      <td>0</td>\n",
       "      <td>5</td>\n",
       "      <td>07-27-2020</td>\n",
       "      <td>07-31-2020</td>\n",
       "      <td>NaN</td>\n",
       "      <td>NaN</td>\n",
       "    </tr>\n",
       "    <tr>\n",
       "      <th>13606</th>\n",
       "      <td>Poderoso Investidor</td>\n",
       "      <td>48</td>\n",
       "      <td>0.00000</td>\n",
       "      <td>0.00000</td>\n",
       "      <td>0.00000</td>\n",
       "      <td>0</td>\n",
       "      <td>13</td>\n",
       "      <td>06-07-2020</td>\n",
       "      <td>07-15-2020</td>\n",
       "      <td>NaN</td>\n",
       "      <td>NaN</td>\n",
       "    </tr>\n",
       "    <tr>\n",
       "      <th>13607</th>\n",
       "      <td>Acabou a Previdência e agora? -  Volume 03</td>\n",
       "      <td>0</td>\n",
       "      <td>0.00000</td>\n",
       "      <td>0.00000</td>\n",
       "      <td>0.00000</td>\n",
       "      <td>0</td>\n",
       "      <td>14</td>\n",
       "      <td>03-30-2020</td>\n",
       "      <td>04-02-2020</td>\n",
       "      <td>NaN</td>\n",
       "      <td>NaN</td>\n",
       "    </tr>\n",
       "  </tbody>\n",
       "</table>\n",
       "<p>13608 rows × 11 columns</p>\n",
       "</div>"
      ],
      "text/plain": [
       "                                                   title  subscribers  \\\n",
       "0      The Complete SQL Bootcamp 2020: Go from Zero t...       295509   \n",
       "1      Tableau 2020 A-Z: Hands-On Tableau Training fo...       209070   \n",
       "2                 PMP Exam Prep Seminar -  PMBOK Guide 6       155282   \n",
       "3             The Complete Financial Analyst Course 2020       245860   \n",
       "4      An Entire MBA in 1 Course:Award Winning Busine...       374836   \n",
       "...                                                  ...          ...   \n",
       "13603                      מושגים בסיסיים באופציות חלק ב           47   \n",
       "13604                            Programa de Integridade           19   \n",
       "13605  Goodwill and Method of Calculating Goodwill (A...           47   \n",
       "13606                                Poderoso Investidor           48   \n",
       "13607         Acabou a Previdência e agora? -  Volume 03            0   \n",
       "\n",
       "       avg_rating  avg_rating_recent   rating  num_reviews  lectures  \\\n",
       "0         4.66019            4.67874  4.67874        78006        84   \n",
       "1         4.58956            4.60015  4.60015        54581        78   \n",
       "2         4.59491            4.59326  4.59326        52653       292   \n",
       "3         4.54407            4.53772  4.53772        46447       338   \n",
       "4         4.47080            4.47173  4.47173        41630        83   \n",
       "...           ...                ...      ...          ...       ...   \n",
       "13603     0.00000            0.00000  0.00000            0         6   \n",
       "13604     0.00000            0.00000  0.00000            0         5   \n",
       "13605     0.00000            0.00000  0.00000            0         5   \n",
       "13606     0.00000            0.00000  0.00000            0        13   \n",
       "13607     0.00000            0.00000  0.00000            0        14   \n",
       "\n",
       "          created     publish  d_amount  p_amount  \n",
       "0      02-14-2016  04-06-2016     455.0    8640.0  \n",
       "1      08-22-2016  08-23-2016     455.0    8640.0  \n",
       "2      09-26-2017  11-14-2017     455.0    8640.0  \n",
       "3      10-23-2015  01-21-2016     455.0    8640.0  \n",
       "4      10-12-2015  01-11-2016     455.0    8640.0  \n",
       "...           ...         ...       ...       ...  \n",
       "13603  04-15-2020  04-23-2020       NaN       NaN  \n",
       "13604  09-01-2020  09-03-2020       NaN       NaN  \n",
       "13605  07-27-2020  07-31-2020       NaN       NaN  \n",
       "13606  06-07-2020  07-15-2020       NaN       NaN  \n",
       "13607  03-30-2020  04-02-2020       NaN       NaN  \n",
       "\n",
       "[13608 rows x 11 columns]"
      ]
     },
     "execution_count": 55,
     "metadata": {},
     "output_type": "execute_result"
    }
   ],
   "source": [
    "data"
   ]
  },
  {
   "cell_type": "markdown",
   "metadata": {},
   "source": [
    "Same creating columns od p_amoubnt, d_amount"
   ]
  },
  {
   "cell_type": "code",
   "execution_count": 56,
   "metadata": {},
   "outputs": [
    {
     "name": "stdout",
     "output_type": "stream",
     "text": [
      "Max d_amount: nan\n",
      "Min d_amount: nan\n",
      "Mean d_amount: nan\n"
     ]
    }
   ],
   "source": [
    "# for d_amount\n",
    "print('Max d_amount:', np.max(data['d_amount'].to_list()))\n",
    "print('Min d_amount:', np.min(data['d_amount'].to_list()))\n",
    "print('Mean d_amount:', np.mean(data['d_amount'].to_list()))"
   ]
  },
  {
   "cell_type": "code",
   "execution_count": 57,
   "metadata": {},
   "outputs": [
    {
     "name": "stdout",
     "output_type": "stream",
     "text": [
      "Max p_amount: nan\n",
      "Min p_amount: nan\n",
      "Mean p_amount: nan\n"
     ]
    }
   ],
   "source": [
    "# for p_amount\n",
    "print('Max p_amount:', np.max(data['p_amount'].to_list()))\n",
    "print('Min p_amount:', np.min(data['p_amount'].to_list()))\n",
    "print('Mean p_amount:', np.mean(data['p_amount'].to_list()))"
   ]
  },
  {
   "cell_type": "code",
   "execution_count": 58,
   "metadata": {},
   "outputs": [],
   "source": [
    "# 1 Indian Rupee = 0.014 Dolar\n",
    "data['p_amount'] = round(data['p_amount']*0.014,2).to_list()\n",
    "data['d_amount'] = round(data['d_amount']*0.014,2).to_list()"
   ]
  },
  {
   "cell_type": "code",
   "execution_count": 59,
   "metadata": {},
   "outputs": [
    {
     "data": {
      "text/html": [
       "<div>\n",
       "<style scoped>\n",
       "    .dataframe tbody tr th:only-of-type {\n",
       "        vertical-align: middle;\n",
       "    }\n",
       "\n",
       "    .dataframe tbody tr th {\n",
       "        vertical-align: top;\n",
       "    }\n",
       "\n",
       "    .dataframe thead th {\n",
       "        text-align: right;\n",
       "    }\n",
       "</style>\n",
       "<table border=\"1\" class=\"dataframe\">\n",
       "  <thead>\n",
       "    <tr style=\"text-align: right;\">\n",
       "      <th></th>\n",
       "      <th>title</th>\n",
       "      <th>subscribers</th>\n",
       "      <th>avg_rating</th>\n",
       "      <th>avg_rating_recent</th>\n",
       "      <th>rating</th>\n",
       "      <th>num_reviews</th>\n",
       "      <th>lectures</th>\n",
       "      <th>created</th>\n",
       "      <th>publish</th>\n",
       "      <th>d_amount</th>\n",
       "      <th>p_amount</th>\n",
       "    </tr>\n",
       "  </thead>\n",
       "  <tbody>\n",
       "    <tr>\n",
       "      <th>0</th>\n",
       "      <td>The Complete SQL Bootcamp 2020: Go from Zero t...</td>\n",
       "      <td>295509</td>\n",
       "      <td>4.66019</td>\n",
       "      <td>4.67874</td>\n",
       "      <td>4.67874</td>\n",
       "      <td>78006</td>\n",
       "      <td>84</td>\n",
       "      <td>02-14-2016</td>\n",
       "      <td>04-06-2016</td>\n",
       "      <td>6.37</td>\n",
       "      <td>120.96</td>\n",
       "    </tr>\n",
       "    <tr>\n",
       "      <th>1</th>\n",
       "      <td>Tableau 2020 A-Z: Hands-On Tableau Training fo...</td>\n",
       "      <td>209070</td>\n",
       "      <td>4.58956</td>\n",
       "      <td>4.60015</td>\n",
       "      <td>4.60015</td>\n",
       "      <td>54581</td>\n",
       "      <td>78</td>\n",
       "      <td>08-22-2016</td>\n",
       "      <td>08-23-2016</td>\n",
       "      <td>6.37</td>\n",
       "      <td>120.96</td>\n",
       "    </tr>\n",
       "    <tr>\n",
       "      <th>2</th>\n",
       "      <td>PMP Exam Prep Seminar -  PMBOK Guide 6</td>\n",
       "      <td>155282</td>\n",
       "      <td>4.59491</td>\n",
       "      <td>4.59326</td>\n",
       "      <td>4.59326</td>\n",
       "      <td>52653</td>\n",
       "      <td>292</td>\n",
       "      <td>09-26-2017</td>\n",
       "      <td>11-14-2017</td>\n",
       "      <td>6.37</td>\n",
       "      <td>120.96</td>\n",
       "    </tr>\n",
       "    <tr>\n",
       "      <th>3</th>\n",
       "      <td>The Complete Financial Analyst Course 2020</td>\n",
       "      <td>245860</td>\n",
       "      <td>4.54407</td>\n",
       "      <td>4.53772</td>\n",
       "      <td>4.53772</td>\n",
       "      <td>46447</td>\n",
       "      <td>338</td>\n",
       "      <td>10-23-2015</td>\n",
       "      <td>01-21-2016</td>\n",
       "      <td>6.37</td>\n",
       "      <td>120.96</td>\n",
       "    </tr>\n",
       "    <tr>\n",
       "      <th>4</th>\n",
       "      <td>An Entire MBA in 1 Course:Award Winning Busine...</td>\n",
       "      <td>374836</td>\n",
       "      <td>4.47080</td>\n",
       "      <td>4.47173</td>\n",
       "      <td>4.47173</td>\n",
       "      <td>41630</td>\n",
       "      <td>83</td>\n",
       "      <td>10-12-2015</td>\n",
       "      <td>01-11-2016</td>\n",
       "      <td>6.37</td>\n",
       "      <td>120.96</td>\n",
       "    </tr>\n",
       "    <tr>\n",
       "      <th>...</th>\n",
       "      <td>...</td>\n",
       "      <td>...</td>\n",
       "      <td>...</td>\n",
       "      <td>...</td>\n",
       "      <td>...</td>\n",
       "      <td>...</td>\n",
       "      <td>...</td>\n",
       "      <td>...</td>\n",
       "      <td>...</td>\n",
       "      <td>...</td>\n",
       "      <td>...</td>\n",
       "    </tr>\n",
       "    <tr>\n",
       "      <th>13603</th>\n",
       "      <td>מושגים בסיסיים באופציות חלק ב</td>\n",
       "      <td>47</td>\n",
       "      <td>0.00000</td>\n",
       "      <td>0.00000</td>\n",
       "      <td>0.00000</td>\n",
       "      <td>0</td>\n",
       "      <td>6</td>\n",
       "      <td>04-15-2020</td>\n",
       "      <td>04-23-2020</td>\n",
       "      <td>NaN</td>\n",
       "      <td>NaN</td>\n",
       "    </tr>\n",
       "    <tr>\n",
       "      <th>13604</th>\n",
       "      <td>Programa de Integridade</td>\n",
       "      <td>19</td>\n",
       "      <td>0.00000</td>\n",
       "      <td>0.00000</td>\n",
       "      <td>0.00000</td>\n",
       "      <td>0</td>\n",
       "      <td>5</td>\n",
       "      <td>09-01-2020</td>\n",
       "      <td>09-03-2020</td>\n",
       "      <td>NaN</td>\n",
       "      <td>NaN</td>\n",
       "    </tr>\n",
       "    <tr>\n",
       "      <th>13605</th>\n",
       "      <td>Goodwill and Method of Calculating Goodwill (A...</td>\n",
       "      <td>47</td>\n",
       "      <td>0.00000</td>\n",
       "      <td>0.00000</td>\n",
       "      <td>0.00000</td>\n",
       "      <td>0</td>\n",
       "      <td>5</td>\n",
       "      <td>07-27-2020</td>\n",
       "      <td>07-31-2020</td>\n",
       "      <td>NaN</td>\n",
       "      <td>NaN</td>\n",
       "    </tr>\n",
       "    <tr>\n",
       "      <th>13606</th>\n",
       "      <td>Poderoso Investidor</td>\n",
       "      <td>48</td>\n",
       "      <td>0.00000</td>\n",
       "      <td>0.00000</td>\n",
       "      <td>0.00000</td>\n",
       "      <td>0</td>\n",
       "      <td>13</td>\n",
       "      <td>06-07-2020</td>\n",
       "      <td>07-15-2020</td>\n",
       "      <td>NaN</td>\n",
       "      <td>NaN</td>\n",
       "    </tr>\n",
       "    <tr>\n",
       "      <th>13607</th>\n",
       "      <td>Acabou a Previdência e agora? -  Volume 03</td>\n",
       "      <td>0</td>\n",
       "      <td>0.00000</td>\n",
       "      <td>0.00000</td>\n",
       "      <td>0.00000</td>\n",
       "      <td>0</td>\n",
       "      <td>14</td>\n",
       "      <td>03-30-2020</td>\n",
       "      <td>04-02-2020</td>\n",
       "      <td>NaN</td>\n",
       "      <td>NaN</td>\n",
       "    </tr>\n",
       "  </tbody>\n",
       "</table>\n",
       "<p>13608 rows × 11 columns</p>\n",
       "</div>"
      ],
      "text/plain": [
       "                                                   title  subscribers  \\\n",
       "0      The Complete SQL Bootcamp 2020: Go from Zero t...       295509   \n",
       "1      Tableau 2020 A-Z: Hands-On Tableau Training fo...       209070   \n",
       "2                 PMP Exam Prep Seminar -  PMBOK Guide 6       155282   \n",
       "3             The Complete Financial Analyst Course 2020       245860   \n",
       "4      An Entire MBA in 1 Course:Award Winning Busine...       374836   \n",
       "...                                                  ...          ...   \n",
       "13603                      מושגים בסיסיים באופציות חלק ב           47   \n",
       "13604                            Programa de Integridade           19   \n",
       "13605  Goodwill and Method of Calculating Goodwill (A...           47   \n",
       "13606                                Poderoso Investidor           48   \n",
       "13607         Acabou a Previdência e agora? -  Volume 03            0   \n",
       "\n",
       "       avg_rating  avg_rating_recent   rating  num_reviews  lectures  \\\n",
       "0         4.66019            4.67874  4.67874        78006        84   \n",
       "1         4.58956            4.60015  4.60015        54581        78   \n",
       "2         4.59491            4.59326  4.59326        52653       292   \n",
       "3         4.54407            4.53772  4.53772        46447       338   \n",
       "4         4.47080            4.47173  4.47173        41630        83   \n",
       "...           ...                ...      ...          ...       ...   \n",
       "13603     0.00000            0.00000  0.00000            0         6   \n",
       "13604     0.00000            0.00000  0.00000            0         5   \n",
       "13605     0.00000            0.00000  0.00000            0         5   \n",
       "13606     0.00000            0.00000  0.00000            0        13   \n",
       "13607     0.00000            0.00000  0.00000            0        14   \n",
       "\n",
       "          created     publish  d_amount  p_amount  \n",
       "0      02-14-2016  04-06-2016      6.37    120.96  \n",
       "1      08-22-2016  08-23-2016      6.37    120.96  \n",
       "2      09-26-2017  11-14-2017      6.37    120.96  \n",
       "3      10-23-2015  01-21-2016      6.37    120.96  \n",
       "4      10-12-2015  01-11-2016      6.37    120.96  \n",
       "...           ...         ...       ...       ...  \n",
       "13603  04-15-2020  04-23-2020       NaN       NaN  \n",
       "13604  09-01-2020  09-03-2020       NaN       NaN  \n",
       "13605  07-27-2020  07-31-2020       NaN       NaN  \n",
       "13606  06-07-2020  07-15-2020       NaN       NaN  \n",
       "13607  03-30-2020  04-02-2020       NaN       NaN  \n",
       "\n",
       "[13608 rows x 11 columns]"
      ]
     },
     "execution_count": 59,
     "metadata": {},
     "output_type": "execute_result"
    }
   ],
   "source": [
    "data"
   ]
  },
  {
   "cell_type": "markdown",
   "metadata": {},
   "source": [
    "Top 10 Course find out"
   ]
  },
  {
   "cell_type": "code",
   "execution_count": 60,
   "metadata": {},
   "outputs": [
    {
     "data": {
      "text/html": [
       "<style  type=\"text/css\" >\n",
       "    #T_be392757_1923_11eb_b7e3_28802306415drow0_col0 {\n",
       "            padding:  15px;\n",
       "            border:  2px solid white;\n",
       "            width:  170px;\n",
       "        }    #T_be392757_1923_11eb_b7e3_28802306415drow0_col1 {\n",
       "            background-color:  #97c6df;\n",
       "            color:  #000000;\n",
       "            padding:  15px;\n",
       "            border:  2px solid white;\n",
       "            width:  170px;\n",
       "        }    #T_be392757_1923_11eb_b7e3_28802306415drow1_col0 {\n",
       "            padding:  15px;\n",
       "            border:  2px solid white;\n",
       "            width:  170px;\n",
       "        }    #T_be392757_1923_11eb_b7e3_28802306415drow1_col1 {\n",
       "            background-color:  #08306b;\n",
       "            color:  #f1f1f1;\n",
       "            padding:  15px;\n",
       "            border:  2px solid white;\n",
       "            width:  170px;\n",
       "        }    #T_be392757_1923_11eb_b7e3_28802306415drow2_col0 {\n",
       "            padding:  15px;\n",
       "            border:  2px solid white;\n",
       "            width:  170px;\n",
       "        }    #T_be392757_1923_11eb_b7e3_28802306415drow2_col1 {\n",
       "            background-color:  #f7fbff;\n",
       "            color:  #000000;\n",
       "            padding:  15px;\n",
       "            border:  2px solid white;\n",
       "            width:  170px;\n",
       "        }    #T_be392757_1923_11eb_b7e3_28802306415drow3_col0 {\n",
       "            padding:  15px;\n",
       "            border:  2px solid white;\n",
       "            width:  170px;\n",
       "        }    #T_be392757_1923_11eb_b7e3_28802306415drow3_col1 {\n",
       "            background-color:  #4191c6;\n",
       "            color:  #000000;\n",
       "            padding:  15px;\n",
       "            border:  2px solid white;\n",
       "            width:  170px;\n",
       "        }    #T_be392757_1923_11eb_b7e3_28802306415drow4_col0 {\n",
       "            padding:  15px;\n",
       "            border:  2px solid white;\n",
       "            width:  170px;\n",
       "        }    #T_be392757_1923_11eb_b7e3_28802306415drow4_col1 {\n",
       "            background-color:  #94c4df;\n",
       "            color:  #000000;\n",
       "            padding:  15px;\n",
       "            border:  2px solid white;\n",
       "            width:  170px;\n",
       "        }    #T_be392757_1923_11eb_b7e3_28802306415drow5_col0 {\n",
       "            padding:  15px;\n",
       "            border:  2px solid white;\n",
       "            width:  170px;\n",
       "        }    #T_be392757_1923_11eb_b7e3_28802306415drow5_col1 {\n",
       "            background-color:  #1c6bb0;\n",
       "            color:  #f1f1f1;\n",
       "            padding:  15px;\n",
       "            border:  2px solid white;\n",
       "            width:  170px;\n",
       "        }    #T_be392757_1923_11eb_b7e3_28802306415drow6_col0 {\n",
       "            padding:  15px;\n",
       "            border:  2px solid white;\n",
       "            width:  170px;\n",
       "        }    #T_be392757_1923_11eb_b7e3_28802306415drow6_col1 {\n",
       "            background-color:  #77b5d9;\n",
       "            color:  #000000;\n",
       "            padding:  15px;\n",
       "            border:  2px solid white;\n",
       "            width:  170px;\n",
       "        }    #T_be392757_1923_11eb_b7e3_28802306415drow7_col0 {\n",
       "            padding:  15px;\n",
       "            border:  2px solid white;\n",
       "            width:  170px;\n",
       "        }    #T_be392757_1923_11eb_b7e3_28802306415drow7_col1 {\n",
       "            background-color:  #9cc9e1;\n",
       "            color:  #000000;\n",
       "            padding:  15px;\n",
       "            border:  2px solid white;\n",
       "            width:  170px;\n",
       "        }    #T_be392757_1923_11eb_b7e3_28802306415drow8_col0 {\n",
       "            padding:  15px;\n",
       "            border:  2px solid white;\n",
       "            width:  170px;\n",
       "        }    #T_be392757_1923_11eb_b7e3_28802306415drow8_col1 {\n",
       "            background-color:  #1966ad;\n",
       "            color:  #f1f1f1;\n",
       "            padding:  15px;\n",
       "            border:  2px solid white;\n",
       "            width:  170px;\n",
       "        }    #T_be392757_1923_11eb_b7e3_28802306415drow9_col0 {\n",
       "            padding:  15px;\n",
       "            border:  2px solid white;\n",
       "            width:  170px;\n",
       "        }    #T_be392757_1923_11eb_b7e3_28802306415drow9_col1 {\n",
       "            background-color:  #91c3de;\n",
       "            color:  #000000;\n",
       "            padding:  15px;\n",
       "            border:  2px solid white;\n",
       "            width:  170px;\n",
       "        }</style><table id=\"T_be392757_1923_11eb_b7e3_28802306415d\" ><caption>Most Subscriber Courses</caption><thead>    <tr>        <th class=\"blank level0\" ></th>        <th class=\"col_heading level0 col0\" >subscribers</th>        <th class=\"col_heading level0 col1\" >avg_rating</th>    </tr>    <tr>        <th class=\"index_name level0\" >title</th>        <th class=\"blank\" ></th>        <th class=\"blank\" ></th>    </tr></thead><tbody>\n",
       "                <tr>\n",
       "                        <th id=\"T_be392757_1923_11eb_b7e3_28802306415dlevel0_row0\" class=\"row_heading level0 row0\" >An Entire MBA in 1 Course:Award Winning Business School Prof</th>\n",
       "                        <td id=\"T_be392757_1923_11eb_b7e3_28802306415drow0_col0\" class=\"data row0 col0\" >374836</td>\n",
       "                        <td id=\"T_be392757_1923_11eb_b7e3_28802306415drow0_col1\" class=\"data row0 col1\" >4.47</td>\n",
       "            </tr>\n",
       "            <tr>\n",
       "                        <th id=\"T_be392757_1923_11eb_b7e3_28802306415dlevel0_row1\" class=\"row_heading level0 row1\" >The Complete SQL Bootcamp 2020: Go from Zero to Hero</th>\n",
       "                        <td id=\"T_be392757_1923_11eb_b7e3_28802306415drow1_col0\" class=\"data row1 col0\" >295509</td>\n",
       "                        <td id=\"T_be392757_1923_11eb_b7e3_28802306415drow1_col1\" class=\"data row1 col1\" >4.66</td>\n",
       "            </tr>\n",
       "            <tr>\n",
       "                        <th id=\"T_be392757_1923_11eb_b7e3_28802306415dlevel0_row2\" class=\"row_heading level0 row2\" >Stock Market Investing for Beginners</th>\n",
       "                        <td id=\"T_be392757_1923_11eb_b7e3_28802306415drow2_col0\" class=\"data row2 col0\" >259888</td>\n",
       "                        <td id=\"T_be392757_1923_11eb_b7e3_28802306415drow2_col1\" class=\"data row2 col1\" >4.35</td>\n",
       "            </tr>\n",
       "            <tr>\n",
       "                        <th id=\"T_be392757_1923_11eb_b7e3_28802306415dlevel0_row3\" class=\"row_heading level0 row3\" >The Complete Financial Analyst Course 2020</th>\n",
       "                        <td id=\"T_be392757_1923_11eb_b7e3_28802306415drow3_col0\" class=\"data row3 col0\" >245860</td>\n",
       "                        <td id=\"T_be392757_1923_11eb_b7e3_28802306415drow3_col1\" class=\"data row3 col1\" >4.54</td>\n",
       "            </tr>\n",
       "            <tr>\n",
       "                        <th id=\"T_be392757_1923_11eb_b7e3_28802306415dlevel0_row4\" class=\"row_heading level0 row4\" >Deep Learning Prerequisites: The Numpy Stack in Python (V2+)</th>\n",
       "                        <td id=\"T_be392757_1923_11eb_b7e3_28802306415drow4_col0\" class=\"data row4 col0\" >239309</td>\n",
       "                        <td id=\"T_be392757_1923_11eb_b7e3_28802306415drow4_col1\" class=\"data row4 col1\" >4.47</td>\n",
       "            </tr>\n",
       "            <tr>\n",
       "                        <th id=\"T_be392757_1923_11eb_b7e3_28802306415dlevel0_row5\" class=\"row_heading level0 row5\" >Tableau 2020 A-Z: Hands-On Tableau Training for Data Science</th>\n",
       "                        <td id=\"T_be392757_1923_11eb_b7e3_28802306415drow5_col0\" class=\"data row5 col0\" >209070</td>\n",
       "                        <td id=\"T_be392757_1923_11eb_b7e3_28802306415drow5_col1\" class=\"data row5 col1\" >4.59</td>\n",
       "            </tr>\n",
       "            <tr>\n",
       "                        <th id=\"T_be392757_1923_11eb_b7e3_28802306415dlevel0_row6\" class=\"row_heading level0 row6\" >The Complete Financial Analyst Training & Investing Course</th>\n",
       "                        <td id=\"T_be392757_1923_11eb_b7e3_28802306415drow6_col0\" class=\"data row6 col0\" >182002</td>\n",
       "                        <td id=\"T_be392757_1923_11eb_b7e3_28802306415drow6_col1\" class=\"data row6 col1\" >4.50</td>\n",
       "            </tr>\n",
       "            <tr>\n",
       "                        <th id=\"T_be392757_1923_11eb_b7e3_28802306415dlevel0_row7\" class=\"row_heading level0 row7\" >The Complete Presentation and Public Speaking/Speech Course</th>\n",
       "                        <td id=\"T_be392757_1923_11eb_b7e3_28802306415drow7_col0\" class=\"data row7 col0\" >158654</td>\n",
       "                        <td id=\"T_be392757_1923_11eb_b7e3_28802306415drow7_col1\" class=\"data row7 col1\" >4.47</td>\n",
       "            </tr>\n",
       "            <tr>\n",
       "                        <th id=\"T_be392757_1923_11eb_b7e3_28802306415dlevel0_row8\" class=\"row_heading level0 row8\" >PMP Exam Prep Seminar -  PMBOK Guide 6</th>\n",
       "                        <td id=\"T_be392757_1923_11eb_b7e3_28802306415drow8_col0\" class=\"data row8 col0\" >155282</td>\n",
       "                        <td id=\"T_be392757_1923_11eb_b7e3_28802306415drow8_col1\" class=\"data row8 col1\" >4.59</td>\n",
       "            </tr>\n",
       "            <tr>\n",
       "                        <th id=\"T_be392757_1923_11eb_b7e3_28802306415dlevel0_row9\" class=\"row_heading level0 row9\" >Introduction to Finance, Accounting, Modeling and Valuation</th>\n",
       "                        <td id=\"T_be392757_1923_11eb_b7e3_28802306415drow9_col0\" class=\"data row9 col0\" >140676</td>\n",
       "                        <td id=\"T_be392757_1923_11eb_b7e3_28802306415drow9_col1\" class=\"data row9 col1\" >4.48</td>\n",
       "            </tr>\n",
       "    </tbody></table>"
      ],
      "text/plain": [
       "<pandas.io.formats.style.Styler at 0x26e867967c0>"
      ]
     },
     "execution_count": 60,
     "metadata": {},
     "output_type": "execute_result"
    }
   ],
   "source": [
    "data[['title', 'subscribers', 'avg_rating']] \\\n",
    "    .sort_values(by=\"subscribers\", ascending=False)[0:10].set_index('title') \\\n",
    "    .style.format('{:.2f}', subset=['avg_rating']).background_gradient(cmap='Blues', subset=['avg_rating']) \\\n",
    "    .set_caption(\"Most Subscriber Courses\") \\\n",
    "    .set_properties(padding='15px', border='2px solid white', width='170px')\n",
    "    "
   ]
  },
  {
   "cell_type": "markdown",
   "metadata": {},
   "source": [
    "."
   ]
  },
  {
   "cell_type": "code",
   "execution_count": 61,
   "metadata": {},
   "outputs": [],
   "source": [
    "data['rating_diff'] = data.avg_rating_recent = data.avg_rating"
   ]
  },
  {
   "cell_type": "code",
   "execution_count": 62,
   "metadata": {},
   "outputs": [
    {
     "data": {
      "text/html": [
       "<style  type=\"text/css\" >\n",
       "    #T_be587d26_1923_11eb_b16e_28802306415drow0_col0 {\n",
       "            background-color:  #e3eef9;\n",
       "            color:  #000000;\n",
       "            padding:  15px;\n",
       "            border:  2px solid white;\n",
       "            width:  170px;\n",
       "        }    #T_be587d26_1923_11eb_b16e_28802306415drow0_col1 {\n",
       "            padding:  15px;\n",
       "            border:  2px solid white;\n",
       "            width:  170px;\n",
       "        }    #T_be587d26_1923_11eb_b16e_28802306415drow0_col2 {\n",
       "            padding:  15px;\n",
       "            border:  2px solid white;\n",
       "            width:  170px;\n",
       "        }    #T_be587d26_1923_11eb_b16e_28802306415drow0_col3 {\n",
       "            width:  10em;\n",
       "             height:  80%;\n",
       "            background:  linear-gradient(90deg,#90EE90 55.0%, transparent 55.0%);\n",
       "            padding:  15px;\n",
       "            border:  2px solid white;\n",
       "            width:  170px;\n",
       "        }    #T_be587d26_1923_11eb_b16e_28802306415drow1_col0 {\n",
       "            background-color:  #7ab6d9;\n",
       "            color:  #000000;\n",
       "            padding:  15px;\n",
       "            border:  2px solid white;\n",
       "            width:  170px;\n",
       "        }    #T_be587d26_1923_11eb_b16e_28802306415drow1_col1 {\n",
       "            padding:  15px;\n",
       "            border:  2px solid white;\n",
       "            width:  170px;\n",
       "        }    #T_be587d26_1923_11eb_b16e_28802306415drow1_col2 {\n",
       "            padding:  15px;\n",
       "            border:  2px solid white;\n",
       "            width:  170px;\n",
       "        }    #T_be587d26_1923_11eb_b16e_28802306415drow1_col3 {\n",
       "            width:  10em;\n",
       "             height:  80%;\n",
       "            background:  linear-gradient(90deg,#90EE90 63.3%, transparent 63.3%);\n",
       "            padding:  15px;\n",
       "            border:  2px solid white;\n",
       "            width:  170px;\n",
       "        }    #T_be587d26_1923_11eb_b16e_28802306415drow2_col0 {\n",
       "            background-color:  #8fc2de;\n",
       "            color:  #000000;\n",
       "            padding:  15px;\n",
       "            border:  2px solid white;\n",
       "            width:  170px;\n",
       "        }    #T_be587d26_1923_11eb_b16e_28802306415drow2_col1 {\n",
       "            padding:  15px;\n",
       "            border:  2px solid white;\n",
       "            width:  170px;\n",
       "        }    #T_be587d26_1923_11eb_b16e_28802306415drow2_col2 {\n",
       "            padding:  15px;\n",
       "            border:  2px solid white;\n",
       "            width:  170px;\n",
       "        }    #T_be587d26_1923_11eb_b16e_28802306415drow2_col3 {\n",
       "            width:  10em;\n",
       "             height:  80%;\n",
       "            background:  linear-gradient(90deg,#90EE90 75.4%, transparent 75.4%);\n",
       "            padding:  15px;\n",
       "            border:  2px solid white;\n",
       "            width:  170px;\n",
       "        }    #T_be587d26_1923_11eb_b16e_28802306415drow3_col0 {\n",
       "            background-color:  #8cc0dd;\n",
       "            color:  #000000;\n",
       "            padding:  15px;\n",
       "            border:  2px solid white;\n",
       "            width:  170px;\n",
       "        }    #T_be587d26_1923_11eb_b16e_28802306415drow3_col1 {\n",
       "            padding:  15px;\n",
       "            border:  2px solid white;\n",
       "            width:  170px;\n",
       "        }    #T_be587d26_1923_11eb_b16e_28802306415drow3_col2 {\n",
       "            padding:  15px;\n",
       "            border:  2px solid white;\n",
       "            width:  170px;\n",
       "        }    #T_be587d26_1923_11eb_b16e_28802306415drow3_col3 {\n",
       "            width:  10em;\n",
       "             height:  80%;\n",
       "            background:  linear-gradient(90deg,#90EE90 78.8%, transparent 78.8%);\n",
       "            padding:  15px;\n",
       "            border:  2px solid white;\n",
       "            width:  170px;\n",
       "        }    #T_be587d26_1923_11eb_b16e_28802306415drow4_col0 {\n",
       "            background-color:  #08306b;\n",
       "            color:  #f1f1f1;\n",
       "            padding:  15px;\n",
       "            border:  2px solid white;\n",
       "            width:  170px;\n",
       "        }    #T_be587d26_1923_11eb_b16e_28802306415drow4_col1 {\n",
       "            padding:  15px;\n",
       "            border:  2px solid white;\n",
       "            width:  170px;\n",
       "        }    #T_be587d26_1923_11eb_b16e_28802306415drow4_col2 {\n",
       "            padding:  15px;\n",
       "            border:  2px solid white;\n",
       "            width:  170px;\n",
       "        }    #T_be587d26_1923_11eb_b16e_28802306415drow4_col3 {\n",
       "            width:  10em;\n",
       "             height:  80%;\n",
       "            background:  linear-gradient(90deg,#90EE90 85.0%, transparent 85.0%);\n",
       "            padding:  15px;\n",
       "            border:  2px solid white;\n",
       "            width:  170px;\n",
       "        }    #T_be587d26_1923_11eb_b16e_28802306415drow5_col0 {\n",
       "            background-color:  #d7e6f5;\n",
       "            color:  #000000;\n",
       "            padding:  15px;\n",
       "            border:  2px solid white;\n",
       "            width:  170px;\n",
       "        }    #T_be587d26_1923_11eb_b16e_28802306415drow5_col1 {\n",
       "            padding:  15px;\n",
       "            border:  2px solid white;\n",
       "            width:  170px;\n",
       "        }    #T_be587d26_1923_11eb_b16e_28802306415drow5_col2 {\n",
       "            padding:  15px;\n",
       "            border:  2px solid white;\n",
       "            width:  170px;\n",
       "        }    #T_be587d26_1923_11eb_b16e_28802306415drow5_col3 {\n",
       "            width:  10em;\n",
       "             height:  80%;\n",
       "            background:  linear-gradient(90deg,#90EE90 85.0%, transparent 85.0%);\n",
       "            padding:  15px;\n",
       "            border:  2px solid white;\n",
       "            width:  170px;\n",
       "        }    #T_be587d26_1923_11eb_b16e_28802306415drow6_col0 {\n",
       "            background-color:  #3484bf;\n",
       "            color:  #000000;\n",
       "            padding:  15px;\n",
       "            border:  2px solid white;\n",
       "            width:  170px;\n",
       "        }    #T_be587d26_1923_11eb_b16e_28802306415drow6_col1 {\n",
       "            padding:  15px;\n",
       "            border:  2px solid white;\n",
       "            width:  170px;\n",
       "        }    #T_be587d26_1923_11eb_b16e_28802306415drow6_col2 {\n",
       "            padding:  15px;\n",
       "            border:  2px solid white;\n",
       "            width:  170px;\n",
       "        }    #T_be587d26_1923_11eb_b16e_28802306415drow6_col3 {\n",
       "            width:  10em;\n",
       "             height:  80%;\n",
       "            background:  linear-gradient(90deg,#90EE90 93.0%, transparent 93.0%);\n",
       "            padding:  15px;\n",
       "            border:  2px solid white;\n",
       "            width:  170px;\n",
       "        }    #T_be587d26_1923_11eb_b16e_28802306415drow7_col0 {\n",
       "            background-color:  #f7fbff;\n",
       "            color:  #000000;\n",
       "            padding:  15px;\n",
       "            border:  2px solid white;\n",
       "            width:  170px;\n",
       "        }    #T_be587d26_1923_11eb_b16e_28802306415drow7_col1 {\n",
       "            padding:  15px;\n",
       "            border:  2px solid white;\n",
       "            width:  170px;\n",
       "        }    #T_be587d26_1923_11eb_b16e_28802306415drow7_col2 {\n",
       "            padding:  15px;\n",
       "            border:  2px solid white;\n",
       "            width:  170px;\n",
       "        }    #T_be587d26_1923_11eb_b16e_28802306415drow7_col3 {\n",
       "            width:  10em;\n",
       "             height:  80%;\n",
       "            background:  linear-gradient(90deg,#90EE90 98.3%, transparent 98.3%);\n",
       "            padding:  15px;\n",
       "            border:  2px solid white;\n",
       "            width:  170px;\n",
       "        }    #T_be587d26_1923_11eb_b16e_28802306415drow8_col0 {\n",
       "            background-color:  #f7fbff;\n",
       "            color:  #000000;\n",
       "            padding:  15px;\n",
       "            border:  2px solid white;\n",
       "            width:  170px;\n",
       "        }    #T_be587d26_1923_11eb_b16e_28802306415drow8_col1 {\n",
       "            padding:  15px;\n",
       "            border:  2px solid white;\n",
       "            width:  170px;\n",
       "        }    #T_be587d26_1923_11eb_b16e_28802306415drow8_col2 {\n",
       "            padding:  15px;\n",
       "            border:  2px solid white;\n",
       "            width:  170px;\n",
       "        }    #T_be587d26_1923_11eb_b16e_28802306415drow8_col3 {\n",
       "            width:  10em;\n",
       "             height:  80%;\n",
       "            background:  linear-gradient(90deg,#90EE90 100.0%, transparent 100.0%);\n",
       "            padding:  15px;\n",
       "            border:  2px solid white;\n",
       "            width:  170px;\n",
       "        }    #T_be587d26_1923_11eb_b16e_28802306415drow9_col0 {\n",
       "            background-color:  #dbe9f6;\n",
       "            color:  #000000;\n",
       "            padding:  15px;\n",
       "            border:  2px solid white;\n",
       "            width:  170px;\n",
       "        }    #T_be587d26_1923_11eb_b16e_28802306415drow9_col1 {\n",
       "            padding:  15px;\n",
       "            border:  2px solid white;\n",
       "            width:  170px;\n",
       "        }    #T_be587d26_1923_11eb_b16e_28802306415drow9_col2 {\n",
       "            padding:  15px;\n",
       "            border:  2px solid white;\n",
       "            width:  170px;\n",
       "        }    #T_be587d26_1923_11eb_b16e_28802306415drow9_col3 {\n",
       "            width:  10em;\n",
       "             height:  80%;\n",
       "            background:  linear-gradient(90deg,#90EE90 100.0%, transparent 100.0%);\n",
       "            padding:  15px;\n",
       "            border:  2px solid white;\n",
       "            width:  170px;\n",
       "        }</style><table id=\"T_be587d26_1923_11eb_b16e_28802306415d\" ><caption>Rating Changes</caption><thead>    <tr>        <th class=\"blank level0\" ></th>        <th class=\"col_heading level0 col0\" >subscribers</th>        <th class=\"col_heading level0 col1\" >avg_rating</th>        <th class=\"col_heading level0 col2\" >avg_rating_recent</th>        <th class=\"col_heading level0 col3\" >rating_diff</th>    </tr>    <tr>        <th class=\"index_name level0\" >title</th>        <th class=\"blank\" ></th>        <th class=\"blank\" ></th>        <th class=\"blank\" ></th>        <th class=\"blank\" ></th>    </tr></thead><tbody>\n",
       "                <tr>\n",
       "                        <th id=\"T_be587d26_1923_11eb_b16e_28802306415dlevel0_row0\" class=\"row_heading level0 row0\" >#1 Cryptocurrency Long-term Investment Opportunity 2017/2018</th>\n",
       "                        <td id=\"T_be587d26_1923_11eb_b16e_28802306415drow0_col0\" class=\"data row0 col0\" >13898</td>\n",
       "                        <td id=\"T_be587d26_1923_11eb_b16e_28802306415drow0_col1\" class=\"data row0 col1\" >1.6500</td>\n",
       "                        <td id=\"T_be587d26_1923_11eb_b16e_28802306415drow0_col2\" class=\"data row0 col2\" >1.6500</td>\n",
       "                        <td id=\"T_be587d26_1923_11eb_b16e_28802306415drow0_col3\" class=\"data row0 col3\" >1.6500</td>\n",
       "            </tr>\n",
       "            <tr>\n",
       "                        <th id=\"T_be587d26_1923_11eb_b16e_28802306415dlevel0_row1\" class=\"row_heading level0 row1\" >Learn Data Science From Scratch</th>\n",
       "                        <td id=\"T_be587d26_1923_11eb_b16e_28802306415drow1_col0\" class=\"data row1 col0\" >24857</td>\n",
       "                        <td id=\"T_be587d26_1923_11eb_b16e_28802306415drow1_col1\" class=\"data row1 col1\" >1.9000</td>\n",
       "                        <td id=\"T_be587d26_1923_11eb_b16e_28802306415drow1_col2\" class=\"data row1 col2\" >1.9000</td>\n",
       "                        <td id=\"T_be587d26_1923_11eb_b16e_28802306415drow1_col3\" class=\"data row1 col3\" >1.9000</td>\n",
       "            </tr>\n",
       "            <tr>\n",
       "                        <th id=\"T_be587d26_1923_11eb_b16e_28802306415dlevel0_row2\" class=\"row_heading level0 row2\" >A Beginner's Guide To Learn Machine Learning</th>\n",
       "                        <td id=\"T_be587d26_1923_11eb_b16e_28802306415drow2_col0\" class=\"data row2 col0\" >23349</td>\n",
       "                        <td id=\"T_be587d26_1923_11eb_b16e_28802306415drow2_col1\" class=\"data row2 col1\" >2.2609</td>\n",
       "                        <td id=\"T_be587d26_1923_11eb_b16e_28802306415drow2_col2\" class=\"data row2 col2\" >2.2609</td>\n",
       "                        <td id=\"T_be587d26_1923_11eb_b16e_28802306415drow2_col3\" class=\"data row2 col3\" >2.2609</td>\n",
       "            </tr>\n",
       "            <tr>\n",
       "                        <th id=\"T_be587d26_1923_11eb_b16e_28802306415dlevel0_row3\" class=\"row_heading level0 row3\" >Machine Learning Masterclass A-Z: Beginner to Advance</th>\n",
       "                        <td id=\"T_be587d26_1923_11eb_b16e_28802306415drow3_col0\" class=\"data row3 col0\" >23659</td>\n",
       "                        <td id=\"T_be587d26_1923_11eb_b16e_28802306415drow3_col1\" class=\"data row3 col1\" >2.3636</td>\n",
       "                        <td id=\"T_be587d26_1923_11eb_b16e_28802306415drow3_col2\" class=\"data row3 col2\" >2.3636</td>\n",
       "                        <td id=\"T_be587d26_1923_11eb_b16e_28802306415drow3_col3\" class=\"data row3 col3\" >2.3636</td>\n",
       "            </tr>\n",
       "            <tr>\n",
       "                        <th id=\"T_be587d26_1923_11eb_b16e_28802306415dlevel0_row4\" class=\"row_heading level0 row4\" >Adsense Masterclass - 2020</th>\n",
       "                        <td id=\"T_be587d26_1923_11eb_b16e_28802306415drow4_col0\" class=\"data row4 col0\" >41120</td>\n",
       "                        <td id=\"T_be587d26_1923_11eb_b16e_28802306415drow4_col1\" class=\"data row4 col1\" >2.5500</td>\n",
       "                        <td id=\"T_be587d26_1923_11eb_b16e_28802306415drow4_col2\" class=\"data row4 col2\" >2.5500</td>\n",
       "                        <td id=\"T_be587d26_1923_11eb_b16e_28802306415drow4_col3\" class=\"data row4 col3\" >2.5500</td>\n",
       "            </tr>\n",
       "            <tr>\n",
       "                        <th id=\"T_be587d26_1923_11eb_b16e_28802306415dlevel0_row5\" class=\"row_heading level0 row5\" >Learn Deep Learning From Scratch</th>\n",
       "                        <td id=\"T_be587d26_1923_11eb_b16e_28802306415drow5_col0\" class=\"data row5 col0\" >15808</td>\n",
       "                        <td id=\"T_be587d26_1923_11eb_b16e_28802306415drow5_col1\" class=\"data row5 col1\" >2.5500</td>\n",
       "                        <td id=\"T_be587d26_1923_11eb_b16e_28802306415drow5_col2\" class=\"data row5 col2\" >2.5500</td>\n",
       "                        <td id=\"T_be587d26_1923_11eb_b16e_28802306415drow5_col3\" class=\"data row5 col3\" >2.5500</td>\n",
       "            </tr>\n",
       "            <tr>\n",
       "                        <th id=\"T_be587d26_1923_11eb_b16e_28802306415dlevel0_row6\" class=\"row_heading level0 row6\" >Complete Data Science Course: Beginner to Advance</th>\n",
       "                        <td id=\"T_be587d26_1923_11eb_b16e_28802306415drow6_col0\" class=\"data row6 col0\" >31442</td>\n",
       "                        <td id=\"T_be587d26_1923_11eb_b16e_28802306415drow6_col1\" class=\"data row6 col1\" >2.7895</td>\n",
       "                        <td id=\"T_be587d26_1923_11eb_b16e_28802306415drow6_col2\" class=\"data row6 col2\" >2.7895</td>\n",
       "                        <td id=\"T_be587d26_1923_11eb_b16e_28802306415drow6_col3\" class=\"data row6 col3\" >2.7895</td>\n",
       "            </tr>\n",
       "            <tr>\n",
       "                        <th id=\"T_be587d26_1923_11eb_b16e_28802306415dlevel0_row7\" class=\"row_heading level0 row7\" >Certification in Renko Chart Trading & Taj Mahal Strategy</th>\n",
       "                        <td id=\"T_be587d26_1923_11eb_b16e_28802306415drow7_col0\" class=\"data row7 col0\" >10940</td>\n",
       "                        <td id=\"T_be587d26_1923_11eb_b16e_28802306415drow7_col1\" class=\"data row7 col1\" >2.9500</td>\n",
       "                        <td id=\"T_be587d26_1923_11eb_b16e_28802306415drow7_col2\" class=\"data row7 col2\" >2.9500</td>\n",
       "                        <td id=\"T_be587d26_1923_11eb_b16e_28802306415drow7_col3\" class=\"data row7 col3\" >2.9500</td>\n",
       "            </tr>\n",
       "            <tr>\n",
       "                        <th id=\"T_be587d26_1923_11eb_b16e_28802306415dlevel0_row8\" class=\"row_heading level0 row8\" >Get Started With Penny Stocks -Step by Step Guide to Trading</th>\n",
       "                        <td id=\"T_be587d26_1923_11eb_b16e_28802306415drow8_col0\" class=\"data row8 col0\" >11012</td>\n",
       "                        <td id=\"T_be587d26_1923_11eb_b16e_28802306415drow8_col1\" class=\"data row8 col1\" >3.0000</td>\n",
       "                        <td id=\"T_be587d26_1923_11eb_b16e_28802306415drow8_col2\" class=\"data row8 col2\" >3.0000</td>\n",
       "                        <td id=\"T_be587d26_1923_11eb_b16e_28802306415drow8_col3\" class=\"data row8 col3\" >3.0000</td>\n",
       "            </tr>\n",
       "            <tr>\n",
       "                        <th id=\"T_be587d26_1923_11eb_b16e_28802306415dlevel0_row9\" class=\"row_heading level0 row9\" >Create A Business From Home Day Trading Stocks Today In 2019</th>\n",
       "                        <td id=\"T_be587d26_1923_11eb_b16e_28802306415drow9_col0\" class=\"data row9 col0\" >15207</td>\n",
       "                        <td id=\"T_be587d26_1923_11eb_b16e_28802306415drow9_col1\" class=\"data row9 col1\" >3.0000</td>\n",
       "                        <td id=\"T_be587d26_1923_11eb_b16e_28802306415drow9_col2\" class=\"data row9 col2\" >3.0000</td>\n",
       "                        <td id=\"T_be587d26_1923_11eb_b16e_28802306415drow9_col3\" class=\"data row9 col3\" >3.0000</td>\n",
       "            </tr>\n",
       "    </tbody></table>"
      ],
      "text/plain": [
       "<pandas.io.formats.style.Styler at 0x26e867863d0>"
      ]
     },
     "execution_count": 62,
     "metadata": {},
     "output_type": "execute_result"
    }
   ],
   "source": [
    "data[data.subscribers > 10000][['title', 'subscribers', 'avg_rating', 'avg_rating_recent', 'rating_diff']] \\\n",
    "    .sort_values(by = 'rating_diff')[:10].set_index('title') \\\n",
    "    .style.format('{:.4f}', subset=['avg_rating', 'avg_rating_recent', 'rating_diff']).background_gradient(cmap='Blues', subset=['subscribers']) \\\n",
    "    .bar(align = 'mid', color=['#FCC0CB', '#90EE90'], subset=['rating_diff']) \\\n",
    "    .set_caption(\"Rating Changes\") \\\n",
    "    .set_properties(padding='15px', border='2px solid white', width='170px')\n",
    "    "
   ]
  },
  {
   "cell_type": "markdown",
   "metadata": {},
   "source": [
    "1. Top 10 Subscriberd Courses"
   ]
  },
  {
   "cell_type": "code",
   "execution_count": 63,
   "metadata": {
    "scrolled": true
   },
   "outputs": [
    {
     "data": {
      "application/vnd.plotly.v1+json": {
       "config": {
        "plotlyServerURL": "https://plot.ly"
       },
       "data": [
        {
         "marker": {
          "color": [
           "gold",
           "red",
           "chocolate",
           "coral",
           "cornflowerblue",
           "cornsilk",
           "crimson",
           "cyan",
           "darkblue",
           "darkcyan"
          ]
         },
         "orientation": "h",
         "type": "bar",
         "x": [
          374836,
          295509,
          259888,
          245860,
          239309,
          209070,
          182002,
          158654,
          155282,
          140676
         ],
         "y": [
          "An Entire MBA in 1 Course:Award Winning Business School Prof",
          "The Complete SQL Bootcamp 2020: Go from Zero to Hero",
          "Stock Market Investing for Beginners",
          "The Complete Financial Analyst Course 2020",
          "Deep Learning Prerequisites: The Numpy Stack in Python (V2+)",
          "Tableau 2020 A-Z: Hands-On Tableau Training for Data Science",
          "The Complete Financial Analyst Training & Investing Course",
          "The Complete Presentation and Public Speaking/Speech Course",
          "PMP Exam Prep Seminar -  PMBOK Guide 6",
          "Introduction to Finance, Accounting, Modeling and Valuation"
         ]
        }
       ],
       "layout": {
        "height": 500,
        "template": {
         "data": {
          "bar": [
           {
            "error_x": {
             "color": "#f2f5fa"
            },
            "error_y": {
             "color": "#f2f5fa"
            },
            "marker": {
             "line": {
              "color": "rgb(17,17,17)",
              "width": 0.5
             }
            },
            "type": "bar"
           }
          ],
          "barpolar": [
           {
            "marker": {
             "line": {
              "color": "rgb(17,17,17)",
              "width": 0.5
             }
            },
            "type": "barpolar"
           }
          ],
          "carpet": [
           {
            "aaxis": {
             "endlinecolor": "#A2B1C6",
             "gridcolor": "#506784",
             "linecolor": "#506784",
             "minorgridcolor": "#506784",
             "startlinecolor": "#A2B1C6"
            },
            "baxis": {
             "endlinecolor": "#A2B1C6",
             "gridcolor": "#506784",
             "linecolor": "#506784",
             "minorgridcolor": "#506784",
             "startlinecolor": "#A2B1C6"
            },
            "type": "carpet"
           }
          ],
          "choropleth": [
           {
            "colorbar": {
             "outlinewidth": 0,
             "ticks": ""
            },
            "type": "choropleth"
           }
          ],
          "contour": [
           {
            "colorbar": {
             "outlinewidth": 0,
             "ticks": ""
            },
            "colorscale": [
             [
              0,
              "#0d0887"
             ],
             [
              0.1111111111111111,
              "#46039f"
             ],
             [
              0.2222222222222222,
              "#7201a8"
             ],
             [
              0.3333333333333333,
              "#9c179e"
             ],
             [
              0.4444444444444444,
              "#bd3786"
             ],
             [
              0.5555555555555556,
              "#d8576b"
             ],
             [
              0.6666666666666666,
              "#ed7953"
             ],
             [
              0.7777777777777778,
              "#fb9f3a"
             ],
             [
              0.8888888888888888,
              "#fdca26"
             ],
             [
              1,
              "#f0f921"
             ]
            ],
            "type": "contour"
           }
          ],
          "contourcarpet": [
           {
            "colorbar": {
             "outlinewidth": 0,
             "ticks": ""
            },
            "type": "contourcarpet"
           }
          ],
          "heatmap": [
           {
            "colorbar": {
             "outlinewidth": 0,
             "ticks": ""
            },
            "colorscale": [
             [
              0,
              "#0d0887"
             ],
             [
              0.1111111111111111,
              "#46039f"
             ],
             [
              0.2222222222222222,
              "#7201a8"
             ],
             [
              0.3333333333333333,
              "#9c179e"
             ],
             [
              0.4444444444444444,
              "#bd3786"
             ],
             [
              0.5555555555555556,
              "#d8576b"
             ],
             [
              0.6666666666666666,
              "#ed7953"
             ],
             [
              0.7777777777777778,
              "#fb9f3a"
             ],
             [
              0.8888888888888888,
              "#fdca26"
             ],
             [
              1,
              "#f0f921"
             ]
            ],
            "type": "heatmap"
           }
          ],
          "heatmapgl": [
           {
            "colorbar": {
             "outlinewidth": 0,
             "ticks": ""
            },
            "colorscale": [
             [
              0,
              "#0d0887"
             ],
             [
              0.1111111111111111,
              "#46039f"
             ],
             [
              0.2222222222222222,
              "#7201a8"
             ],
             [
              0.3333333333333333,
              "#9c179e"
             ],
             [
              0.4444444444444444,
              "#bd3786"
             ],
             [
              0.5555555555555556,
              "#d8576b"
             ],
             [
              0.6666666666666666,
              "#ed7953"
             ],
             [
              0.7777777777777778,
              "#fb9f3a"
             ],
             [
              0.8888888888888888,
              "#fdca26"
             ],
             [
              1,
              "#f0f921"
             ]
            ],
            "type": "heatmapgl"
           }
          ],
          "histogram": [
           {
            "marker": {
             "colorbar": {
              "outlinewidth": 0,
              "ticks": ""
             }
            },
            "type": "histogram"
           }
          ],
          "histogram2d": [
           {
            "colorbar": {
             "outlinewidth": 0,
             "ticks": ""
            },
            "colorscale": [
             [
              0,
              "#0d0887"
             ],
             [
              0.1111111111111111,
              "#46039f"
             ],
             [
              0.2222222222222222,
              "#7201a8"
             ],
             [
              0.3333333333333333,
              "#9c179e"
             ],
             [
              0.4444444444444444,
              "#bd3786"
             ],
             [
              0.5555555555555556,
              "#d8576b"
             ],
             [
              0.6666666666666666,
              "#ed7953"
             ],
             [
              0.7777777777777778,
              "#fb9f3a"
             ],
             [
              0.8888888888888888,
              "#fdca26"
             ],
             [
              1,
              "#f0f921"
             ]
            ],
            "type": "histogram2d"
           }
          ],
          "histogram2dcontour": [
           {
            "colorbar": {
             "outlinewidth": 0,
             "ticks": ""
            },
            "colorscale": [
             [
              0,
              "#0d0887"
             ],
             [
              0.1111111111111111,
              "#46039f"
             ],
             [
              0.2222222222222222,
              "#7201a8"
             ],
             [
              0.3333333333333333,
              "#9c179e"
             ],
             [
              0.4444444444444444,
              "#bd3786"
             ],
             [
              0.5555555555555556,
              "#d8576b"
             ],
             [
              0.6666666666666666,
              "#ed7953"
             ],
             [
              0.7777777777777778,
              "#fb9f3a"
             ],
             [
              0.8888888888888888,
              "#fdca26"
             ],
             [
              1,
              "#f0f921"
             ]
            ],
            "type": "histogram2dcontour"
           }
          ],
          "mesh3d": [
           {
            "colorbar": {
             "outlinewidth": 0,
             "ticks": ""
            },
            "type": "mesh3d"
           }
          ],
          "parcoords": [
           {
            "line": {
             "colorbar": {
              "outlinewidth": 0,
              "ticks": ""
             }
            },
            "type": "parcoords"
           }
          ],
          "scatter": [
           {
            "marker": {
             "line": {
              "color": "#283442"
             }
            },
            "type": "scatter"
           }
          ],
          "scatter3d": [
           {
            "line": {
             "colorbar": {
              "outlinewidth": 0,
              "ticks": ""
             }
            },
            "marker": {
             "colorbar": {
              "outlinewidth": 0,
              "ticks": ""
             }
            },
            "type": "scatter3d"
           }
          ],
          "scattercarpet": [
           {
            "marker": {
             "colorbar": {
              "outlinewidth": 0,
              "ticks": ""
             }
            },
            "type": "scattercarpet"
           }
          ],
          "scattergeo": [
           {
            "marker": {
             "colorbar": {
              "outlinewidth": 0,
              "ticks": ""
             }
            },
            "type": "scattergeo"
           }
          ],
          "scattergl": [
           {
            "marker": {
             "line": {
              "color": "#283442"
             }
            },
            "type": "scattergl"
           }
          ],
          "scattermapbox": [
           {
            "marker": {
             "colorbar": {
              "outlinewidth": 0,
              "ticks": ""
             }
            },
            "type": "scattermapbox"
           }
          ],
          "scatterpolar": [
           {
            "marker": {
             "colorbar": {
              "outlinewidth": 0,
              "ticks": ""
             }
            },
            "type": "scatterpolar"
           }
          ],
          "scatterpolargl": [
           {
            "marker": {
             "colorbar": {
              "outlinewidth": 0,
              "ticks": ""
             }
            },
            "type": "scatterpolargl"
           }
          ],
          "scatterternary": [
           {
            "marker": {
             "colorbar": {
              "outlinewidth": 0,
              "ticks": ""
             }
            },
            "type": "scatterternary"
           }
          ],
          "surface": [
           {
            "colorbar": {
             "outlinewidth": 0,
             "ticks": ""
            },
            "colorscale": [
             [
              0,
              "#0d0887"
             ],
             [
              0.1111111111111111,
              "#46039f"
             ],
             [
              0.2222222222222222,
              "#7201a8"
             ],
             [
              0.3333333333333333,
              "#9c179e"
             ],
             [
              0.4444444444444444,
              "#bd3786"
             ],
             [
              0.5555555555555556,
              "#d8576b"
             ],
             [
              0.6666666666666666,
              "#ed7953"
             ],
             [
              0.7777777777777778,
              "#fb9f3a"
             ],
             [
              0.8888888888888888,
              "#fdca26"
             ],
             [
              1,
              "#f0f921"
             ]
            ],
            "type": "surface"
           }
          ],
          "table": [
           {
            "cells": {
             "fill": {
              "color": "#506784"
             },
             "line": {
              "color": "rgb(17,17,17)"
             }
            },
            "header": {
             "fill": {
              "color": "#2a3f5f"
             },
             "line": {
              "color": "rgb(17,17,17)"
             }
            },
            "type": "table"
           }
          ]
         },
         "layout": {
          "annotationdefaults": {
           "arrowcolor": "#f2f5fa",
           "arrowhead": 0,
           "arrowwidth": 1
          },
          "colorscale": {
           "diverging": [
            [
             0,
             "#8e0152"
            ],
            [
             0.1,
             "#c51b7d"
            ],
            [
             0.2,
             "#de77ae"
            ],
            [
             0.3,
             "#f1b6da"
            ],
            [
             0.4,
             "#fde0ef"
            ],
            [
             0.5,
             "#f7f7f7"
            ],
            [
             0.6,
             "#e6f5d0"
            ],
            [
             0.7,
             "#b8e186"
            ],
            [
             0.8,
             "#7fbc41"
            ],
            [
             0.9,
             "#4d9221"
            ],
            [
             1,
             "#276419"
            ]
           ],
           "sequential": [
            [
             0,
             "#0d0887"
            ],
            [
             0.1111111111111111,
             "#46039f"
            ],
            [
             0.2222222222222222,
             "#7201a8"
            ],
            [
             0.3333333333333333,
             "#9c179e"
            ],
            [
             0.4444444444444444,
             "#bd3786"
            ],
            [
             0.5555555555555556,
             "#d8576b"
            ],
            [
             0.6666666666666666,
             "#ed7953"
            ],
            [
             0.7777777777777778,
             "#fb9f3a"
            ],
            [
             0.8888888888888888,
             "#fdca26"
            ],
            [
             1,
             "#f0f921"
            ]
           ],
           "sequentialminus": [
            [
             0,
             "#0d0887"
            ],
            [
             0.1111111111111111,
             "#46039f"
            ],
            [
             0.2222222222222222,
             "#7201a8"
            ],
            [
             0.3333333333333333,
             "#9c179e"
            ],
            [
             0.4444444444444444,
             "#bd3786"
            ],
            [
             0.5555555555555556,
             "#d8576b"
            ],
            [
             0.6666666666666666,
             "#ed7953"
            ],
            [
             0.7777777777777778,
             "#fb9f3a"
            ],
            [
             0.8888888888888888,
             "#fdca26"
            ],
            [
             1,
             "#f0f921"
            ]
           ]
          },
          "colorway": [
           "#636efa",
           "#EF553B",
           "#00cc96",
           "#ab63fa",
           "#FFA15A",
           "#19d3f3",
           "#FF6692",
           "#B6E880",
           "#FF97FF",
           "#FECB52"
          ],
          "font": {
           "color": "#f2f5fa"
          },
          "geo": {
           "bgcolor": "rgb(17,17,17)",
           "lakecolor": "rgb(17,17,17)",
           "landcolor": "rgb(17,17,17)",
           "showlakes": true,
           "showland": true,
           "subunitcolor": "#506784"
          },
          "hoverlabel": {
           "align": "left"
          },
          "hovermode": "closest",
          "mapbox": {
           "style": "dark"
          },
          "paper_bgcolor": "rgb(17,17,17)",
          "plot_bgcolor": "rgb(17,17,17)",
          "polar": {
           "angularaxis": {
            "gridcolor": "#506784",
            "linecolor": "#506784",
            "ticks": ""
           },
           "bgcolor": "rgb(17,17,17)",
           "radialaxis": {
            "gridcolor": "#506784",
            "linecolor": "#506784",
            "ticks": ""
           }
          },
          "scene": {
           "xaxis": {
            "backgroundcolor": "rgb(17,17,17)",
            "gridcolor": "#506784",
            "gridwidth": 2,
            "linecolor": "#506784",
            "showbackground": true,
            "ticks": "",
            "zerolinecolor": "#C8D4E3"
           },
           "yaxis": {
            "backgroundcolor": "rgb(17,17,17)",
            "gridcolor": "#506784",
            "gridwidth": 2,
            "linecolor": "#506784",
            "showbackground": true,
            "ticks": "",
            "zerolinecolor": "#C8D4E3"
           },
           "zaxis": {
            "backgroundcolor": "rgb(17,17,17)",
            "gridcolor": "#506784",
            "gridwidth": 2,
            "linecolor": "#506784",
            "showbackground": true,
            "ticks": "",
            "zerolinecolor": "#C8D4E3"
           }
          },
          "shapedefaults": {
           "line": {
            "color": "#f2f5fa"
           }
          },
          "sliderdefaults": {
           "bgcolor": "#C8D4E3",
           "bordercolor": "rgb(17,17,17)",
           "borderwidth": 1,
           "tickwidth": 0
          },
          "ternary": {
           "aaxis": {
            "gridcolor": "#506784",
            "linecolor": "#506784",
            "ticks": ""
           },
           "baxis": {
            "gridcolor": "#506784",
            "linecolor": "#506784",
            "ticks": ""
           },
           "bgcolor": "rgb(17,17,17)",
           "caxis": {
            "gridcolor": "#506784",
            "linecolor": "#506784",
            "ticks": ""
           }
          },
          "title": {
           "x": 0.05
          },
          "updatemenudefaults": {
           "bgcolor": "#506784",
           "borderwidth": 0
          },
          "xaxis": {
           "automargin": true,
           "gridcolor": "#283442",
           "linecolor": "#506784",
           "ticks": "",
           "zerolinecolor": "#283442",
           "zerolinewidth": 2
          },
          "yaxis": {
           "automargin": true,
           "gridcolor": "#283442",
           "linecolor": "#506784",
           "ticks": "",
           "zerolinecolor": "#283442",
           "zerolinewidth": 2
          }
         }
        },
        "title": {
         "text": "Top 10 Subscriberd Courses"
        },
        "yaxis": {
         "autorange": "reversed"
        }
       }
      },
      "text/html": [
       "<div>\n",
       "        \n",
       "        \n",
       "            <div id=\"80ce312f-fb16-43a0-bd70-94c42a115ac6\" class=\"plotly-graph-div\" style=\"height:500px; width:100%;\"></div>\n",
       "            <script type=\"text/javascript\">\n",
       "                require([\"plotly\"], function(Plotly) {\n",
       "                    window.PLOTLYENV=window.PLOTLYENV || {};\n",
       "                    \n",
       "                if (document.getElementById(\"80ce312f-fb16-43a0-bd70-94c42a115ac6\")) {\n",
       "                    Plotly.newPlot(\n",
       "                        '80ce312f-fb16-43a0-bd70-94c42a115ac6',\n",
       "                        [{\"marker\": {\"color\": [\"gold\", \"red\", \"chocolate\", \"coral\", \"cornflowerblue\", \"cornsilk\", \"crimson\", \"cyan\", \"darkblue\", \"darkcyan\"]}, \"orientation\": \"h\", \"type\": \"bar\", \"x\": [374836, 295509, 259888, 245860, 239309, 209070, 182002, 158654, 155282, 140676], \"y\": [\"An Entire MBA in 1 Course:Award Winning Business School Prof\", \"The Complete SQL Bootcamp 2020: Go from Zero to Hero\", \"Stock Market Investing for Beginners\", \"The Complete Financial Analyst Course 2020\", \"Deep Learning Prerequisites: The Numpy Stack in Python (V2+)\", \"Tableau 2020 A-Z: Hands-On Tableau Training for Data Science\", \"The Complete Financial Analyst Training & Investing Course\", \"The Complete Presentation and Public Speaking/Speech Course\", \"PMP Exam Prep Seminar -  PMBOK Guide 6\", \"Introduction to Finance, Accounting, Modeling and Valuation\"]}],\n",
       "                        {\"height\": 500, \"template\": {\"data\": {\"bar\": [{\"error_x\": {\"color\": \"#f2f5fa\"}, \"error_y\": {\"color\": \"#f2f5fa\"}, \"marker\": {\"line\": {\"color\": \"rgb(17,17,17)\", \"width\": 0.5}}, \"type\": \"bar\"}], \"barpolar\": [{\"marker\": {\"line\": {\"color\": \"rgb(17,17,17)\", \"width\": 0.5}}, \"type\": \"barpolar\"}], \"carpet\": [{\"aaxis\": {\"endlinecolor\": \"#A2B1C6\", \"gridcolor\": \"#506784\", \"linecolor\": \"#506784\", \"minorgridcolor\": \"#506784\", \"startlinecolor\": \"#A2B1C6\"}, \"baxis\": {\"endlinecolor\": \"#A2B1C6\", \"gridcolor\": \"#506784\", \"linecolor\": \"#506784\", \"minorgridcolor\": \"#506784\", \"startlinecolor\": \"#A2B1C6\"}, \"type\": \"carpet\"}], \"choropleth\": [{\"colorbar\": {\"outlinewidth\": 0, \"ticks\": \"\"}, \"type\": \"choropleth\"}], \"contour\": [{\"colorbar\": {\"outlinewidth\": 0, \"ticks\": \"\"}, \"colorscale\": [[0.0, \"#0d0887\"], [0.1111111111111111, \"#46039f\"], [0.2222222222222222, \"#7201a8\"], [0.3333333333333333, \"#9c179e\"], [0.4444444444444444, \"#bd3786\"], [0.5555555555555556, \"#d8576b\"], [0.6666666666666666, \"#ed7953\"], [0.7777777777777778, \"#fb9f3a\"], [0.8888888888888888, \"#fdca26\"], [1.0, \"#f0f921\"]], \"type\": \"contour\"}], \"contourcarpet\": [{\"colorbar\": {\"outlinewidth\": 0, \"ticks\": \"\"}, \"type\": \"contourcarpet\"}], \"heatmap\": [{\"colorbar\": {\"outlinewidth\": 0, \"ticks\": \"\"}, \"colorscale\": [[0.0, \"#0d0887\"], [0.1111111111111111, \"#46039f\"], [0.2222222222222222, \"#7201a8\"], [0.3333333333333333, \"#9c179e\"], [0.4444444444444444, \"#bd3786\"], [0.5555555555555556, \"#d8576b\"], [0.6666666666666666, \"#ed7953\"], [0.7777777777777778, \"#fb9f3a\"], [0.8888888888888888, \"#fdca26\"], [1.0, \"#f0f921\"]], \"type\": \"heatmap\"}], \"heatmapgl\": [{\"colorbar\": {\"outlinewidth\": 0, \"ticks\": \"\"}, \"colorscale\": [[0.0, \"#0d0887\"], [0.1111111111111111, \"#46039f\"], [0.2222222222222222, \"#7201a8\"], [0.3333333333333333, \"#9c179e\"], [0.4444444444444444, \"#bd3786\"], [0.5555555555555556, \"#d8576b\"], [0.6666666666666666, \"#ed7953\"], [0.7777777777777778, \"#fb9f3a\"], [0.8888888888888888, \"#fdca26\"], [1.0, \"#f0f921\"]], \"type\": \"heatmapgl\"}], \"histogram\": [{\"marker\": {\"colorbar\": {\"outlinewidth\": 0, \"ticks\": \"\"}}, \"type\": \"histogram\"}], \"histogram2d\": [{\"colorbar\": {\"outlinewidth\": 0, \"ticks\": \"\"}, \"colorscale\": [[0.0, \"#0d0887\"], [0.1111111111111111, \"#46039f\"], [0.2222222222222222, \"#7201a8\"], [0.3333333333333333, \"#9c179e\"], [0.4444444444444444, \"#bd3786\"], [0.5555555555555556, \"#d8576b\"], [0.6666666666666666, \"#ed7953\"], [0.7777777777777778, \"#fb9f3a\"], [0.8888888888888888, \"#fdca26\"], [1.0, \"#f0f921\"]], \"type\": \"histogram2d\"}], \"histogram2dcontour\": [{\"colorbar\": {\"outlinewidth\": 0, \"ticks\": \"\"}, \"colorscale\": [[0.0, \"#0d0887\"], [0.1111111111111111, \"#46039f\"], [0.2222222222222222, \"#7201a8\"], [0.3333333333333333, \"#9c179e\"], [0.4444444444444444, \"#bd3786\"], [0.5555555555555556, \"#d8576b\"], [0.6666666666666666, \"#ed7953\"], [0.7777777777777778, \"#fb9f3a\"], [0.8888888888888888, \"#fdca26\"], [1.0, \"#f0f921\"]], \"type\": \"histogram2dcontour\"}], \"mesh3d\": [{\"colorbar\": {\"outlinewidth\": 0, \"ticks\": \"\"}, \"type\": \"mesh3d\"}], \"parcoords\": [{\"line\": {\"colorbar\": {\"outlinewidth\": 0, \"ticks\": \"\"}}, \"type\": \"parcoords\"}], \"scatter\": [{\"marker\": {\"line\": {\"color\": \"#283442\"}}, \"type\": \"scatter\"}], \"scatter3d\": [{\"line\": {\"colorbar\": {\"outlinewidth\": 0, \"ticks\": \"\"}}, \"marker\": {\"colorbar\": {\"outlinewidth\": 0, \"ticks\": \"\"}}, \"type\": \"scatter3d\"}], \"scattercarpet\": [{\"marker\": {\"colorbar\": {\"outlinewidth\": 0, \"ticks\": \"\"}}, \"type\": \"scattercarpet\"}], \"scattergeo\": [{\"marker\": {\"colorbar\": {\"outlinewidth\": 0, \"ticks\": \"\"}}, \"type\": \"scattergeo\"}], \"scattergl\": [{\"marker\": {\"line\": {\"color\": \"#283442\"}}, \"type\": \"scattergl\"}], \"scattermapbox\": [{\"marker\": {\"colorbar\": {\"outlinewidth\": 0, \"ticks\": \"\"}}, \"type\": \"scattermapbox\"}], \"scatterpolar\": [{\"marker\": {\"colorbar\": {\"outlinewidth\": 0, \"ticks\": \"\"}}, \"type\": \"scatterpolar\"}], \"scatterpolargl\": [{\"marker\": {\"colorbar\": {\"outlinewidth\": 0, \"ticks\": \"\"}}, \"type\": \"scatterpolargl\"}], \"scatterternary\": [{\"marker\": {\"colorbar\": {\"outlinewidth\": 0, \"ticks\": \"\"}}, \"type\": \"scatterternary\"}], \"surface\": [{\"colorbar\": {\"outlinewidth\": 0, \"ticks\": \"\"}, \"colorscale\": [[0.0, \"#0d0887\"], [0.1111111111111111, \"#46039f\"], [0.2222222222222222, \"#7201a8\"], [0.3333333333333333, \"#9c179e\"], [0.4444444444444444, \"#bd3786\"], [0.5555555555555556, \"#d8576b\"], [0.6666666666666666, \"#ed7953\"], [0.7777777777777778, \"#fb9f3a\"], [0.8888888888888888, \"#fdca26\"], [1.0, \"#f0f921\"]], \"type\": \"surface\"}], \"table\": [{\"cells\": {\"fill\": {\"color\": \"#506784\"}, \"line\": {\"color\": \"rgb(17,17,17)\"}}, \"header\": {\"fill\": {\"color\": \"#2a3f5f\"}, \"line\": {\"color\": \"rgb(17,17,17)\"}}, \"type\": \"table\"}]}, \"layout\": {\"annotationdefaults\": {\"arrowcolor\": \"#f2f5fa\", \"arrowhead\": 0, \"arrowwidth\": 1}, \"colorscale\": {\"diverging\": [[0, \"#8e0152\"], [0.1, \"#c51b7d\"], [0.2, \"#de77ae\"], [0.3, \"#f1b6da\"], [0.4, \"#fde0ef\"], [0.5, \"#f7f7f7\"], [0.6, \"#e6f5d0\"], [0.7, \"#b8e186\"], [0.8, \"#7fbc41\"], [0.9, \"#4d9221\"], [1, \"#276419\"]], \"sequential\": [[0.0, \"#0d0887\"], [0.1111111111111111, \"#46039f\"], [0.2222222222222222, \"#7201a8\"], [0.3333333333333333, \"#9c179e\"], [0.4444444444444444, \"#bd3786\"], [0.5555555555555556, \"#d8576b\"], [0.6666666666666666, \"#ed7953\"], [0.7777777777777778, \"#fb9f3a\"], [0.8888888888888888, \"#fdca26\"], [1.0, \"#f0f921\"]], \"sequentialminus\": [[0.0, \"#0d0887\"], [0.1111111111111111, \"#46039f\"], [0.2222222222222222, \"#7201a8\"], [0.3333333333333333, \"#9c179e\"], [0.4444444444444444, \"#bd3786\"], [0.5555555555555556, \"#d8576b\"], [0.6666666666666666, \"#ed7953\"], [0.7777777777777778, \"#fb9f3a\"], [0.8888888888888888, \"#fdca26\"], [1.0, \"#f0f921\"]]}, \"colorway\": [\"#636efa\", \"#EF553B\", \"#00cc96\", \"#ab63fa\", \"#FFA15A\", \"#19d3f3\", \"#FF6692\", \"#B6E880\", \"#FF97FF\", \"#FECB52\"], \"font\": {\"color\": \"#f2f5fa\"}, \"geo\": {\"bgcolor\": \"rgb(17,17,17)\", \"lakecolor\": \"rgb(17,17,17)\", \"landcolor\": \"rgb(17,17,17)\", \"showlakes\": true, \"showland\": true, \"subunitcolor\": \"#506784\"}, \"hoverlabel\": {\"align\": \"left\"}, \"hovermode\": \"closest\", \"mapbox\": {\"style\": \"dark\"}, \"paper_bgcolor\": \"rgb(17,17,17)\", \"plot_bgcolor\": \"rgb(17,17,17)\", \"polar\": {\"angularaxis\": {\"gridcolor\": \"#506784\", \"linecolor\": \"#506784\", \"ticks\": \"\"}, \"bgcolor\": \"rgb(17,17,17)\", \"radialaxis\": {\"gridcolor\": \"#506784\", \"linecolor\": \"#506784\", \"ticks\": \"\"}}, \"scene\": {\"xaxis\": {\"backgroundcolor\": \"rgb(17,17,17)\", \"gridcolor\": \"#506784\", \"gridwidth\": 2, \"linecolor\": \"#506784\", \"showbackground\": true, \"ticks\": \"\", \"zerolinecolor\": \"#C8D4E3\"}, \"yaxis\": {\"backgroundcolor\": \"rgb(17,17,17)\", \"gridcolor\": \"#506784\", \"gridwidth\": 2, \"linecolor\": \"#506784\", \"showbackground\": true, \"ticks\": \"\", \"zerolinecolor\": \"#C8D4E3\"}, \"zaxis\": {\"backgroundcolor\": \"rgb(17,17,17)\", \"gridcolor\": \"#506784\", \"gridwidth\": 2, \"linecolor\": \"#506784\", \"showbackground\": true, \"ticks\": \"\", \"zerolinecolor\": \"#C8D4E3\"}}, \"shapedefaults\": {\"line\": {\"color\": \"#f2f5fa\"}}, \"sliderdefaults\": {\"bgcolor\": \"#C8D4E3\", \"bordercolor\": \"rgb(17,17,17)\", \"borderwidth\": 1, \"tickwidth\": 0}, \"ternary\": {\"aaxis\": {\"gridcolor\": \"#506784\", \"linecolor\": \"#506784\", \"ticks\": \"\"}, \"baxis\": {\"gridcolor\": \"#506784\", \"linecolor\": \"#506784\", \"ticks\": \"\"}, \"bgcolor\": \"rgb(17,17,17)\", \"caxis\": {\"gridcolor\": \"#506784\", \"linecolor\": \"#506784\", \"ticks\": \"\"}}, \"title\": {\"x\": 0.05}, \"updatemenudefaults\": {\"bgcolor\": \"#506784\", \"borderwidth\": 0}, \"xaxis\": {\"automargin\": true, \"gridcolor\": \"#283442\", \"linecolor\": \"#506784\", \"ticks\": \"\", \"zerolinecolor\": \"#283442\", \"zerolinewidth\": 2}, \"yaxis\": {\"automargin\": true, \"gridcolor\": \"#283442\", \"linecolor\": \"#506784\", \"ticks\": \"\", \"zerolinecolor\": \"#283442\", \"zerolinewidth\": 2}}}, \"title\": {\"text\": \"Top 10 Subscriberd Courses\"}, \"yaxis\": {\"autorange\": \"reversed\"}},\n",
       "                        {\"responsive\": true}\n",
       "                    ).then(function(){\n",
       "                            \n",
       "var gd = document.getElementById('80ce312f-fb16-43a0-bd70-94c42a115ac6');\n",
       "var x = new MutationObserver(function (mutations, observer) {{\n",
       "        var display = window.getComputedStyle(gd).display;\n",
       "        if (!display || display === 'none') {{\n",
       "            console.log([gd, 'removed!']);\n",
       "            Plotly.purge(gd);\n",
       "            observer.disconnect();\n",
       "        }}\n",
       "}});\n",
       "\n",
       "// Listen for the removal of the full notebook cells\n",
       "var notebookContainer = gd.closest('#notebook-container');\n",
       "if (notebookContainer) {{\n",
       "    x.observe(notebookContainer, {childList: true});\n",
       "}}\n",
       "\n",
       "// Listen for the clearing of the current output cell\n",
       "var outputEl = gd.closest('.output');\n",
       "if (outputEl) {{\n",
       "    x.observe(outputEl, {childList: true});\n",
       "}}\n",
       "\n",
       "                        })\n",
       "                };\n",
       "                });\n",
       "            </script>\n",
       "        </div>"
      ]
     },
     "metadata": {},
     "output_type": "display_data"
    }
   ],
   "source": [
    "df = data.sort_values(by=\"subscribers\", ascending=False)\n",
    "trace = go.Bar( x=df.subscribers[0:10],\n",
    "              y = df.title[0:10],\n",
    "              marker= dict(color=['gold','red', 'chocolate', 'coral', 'cornflowerblue',\n",
    "            'cornsilk', 'crimson', 'cyan', 'darkblue', 'darkcyan']),orientation='h')\n",
    "\n",
    "layout = dict(height=500,\n",
    "              yaxis=dict(autorange=\"reversed\"),\n",
    "             title=\"Top 10 Subscriberd Courses\",\n",
    "                template = \"plotly_dark\")\n",
    "\n",
    "fig = go.Figure(data=[trace], layout=layout)\n",
    "fig.show()"
   ]
  },
  {
   "cell_type": "markdown",
   "metadata": {},
   "source": [
    "2. Top 10 Most lectures Course"
   ]
  },
  {
   "cell_type": "code",
   "execution_count": 64,
   "metadata": {
    "scrolled": true
   },
   "outputs": [
    {
     "data": {
      "application/vnd.plotly.v1+json": {
       "config": {
        "plotlyServerURL": "https://plot.ly"
       },
       "data": [
        {
         "marker": {
          "color": [
           "gold",
           "red",
           "chocolate",
           "coral",
           "cornflowerblue",
           "cornsilk",
           "crimson",
           "cyan",
           "darkblue",
           "darkcyan"
          ]
         },
         "orientation": "h",
         "type": "bar",
         "x": [
          699,
          668,
          637,
          636,
          601,
          601,
          600,
          600,
          600,
          600
         ],
         "y": [
          "Accounting–Financial Accounting Total-Beginners to Advanced",
          "QuickBooks Pro Desktop 2020, 2019, & 2018 Start to Finish",
          "The Complete Digital Marketing Guide - 18 Courses in 1",
          "The Ultimate QuickBooks Pro Training Bundle - 60+ Hours",
          "Winning Communication Skills for Telephone, Conference Calls",
          "Communication Skills for Beginners",
          "Complete Media Training Master Class - Confidence on Camera",
          "Workplace Communication: Effectively Deliver Criticism",
          "The Complete Communication Skills Master Class for Life",
          "The Complete Storytelling Course for Speaking & Presenting"
         ]
        }
       ],
       "layout": {
        "height": 500,
        "template": {
         "data": {
          "bar": [
           {
            "error_x": {
             "color": "#f2f5fa"
            },
            "error_y": {
             "color": "#f2f5fa"
            },
            "marker": {
             "line": {
              "color": "rgb(17,17,17)",
              "width": 0.5
             }
            },
            "type": "bar"
           }
          ],
          "barpolar": [
           {
            "marker": {
             "line": {
              "color": "rgb(17,17,17)",
              "width": 0.5
             }
            },
            "type": "barpolar"
           }
          ],
          "carpet": [
           {
            "aaxis": {
             "endlinecolor": "#A2B1C6",
             "gridcolor": "#506784",
             "linecolor": "#506784",
             "minorgridcolor": "#506784",
             "startlinecolor": "#A2B1C6"
            },
            "baxis": {
             "endlinecolor": "#A2B1C6",
             "gridcolor": "#506784",
             "linecolor": "#506784",
             "minorgridcolor": "#506784",
             "startlinecolor": "#A2B1C6"
            },
            "type": "carpet"
           }
          ],
          "choropleth": [
           {
            "colorbar": {
             "outlinewidth": 0,
             "ticks": ""
            },
            "type": "choropleth"
           }
          ],
          "contour": [
           {
            "colorbar": {
             "outlinewidth": 0,
             "ticks": ""
            },
            "colorscale": [
             [
              0,
              "#0d0887"
             ],
             [
              0.1111111111111111,
              "#46039f"
             ],
             [
              0.2222222222222222,
              "#7201a8"
             ],
             [
              0.3333333333333333,
              "#9c179e"
             ],
             [
              0.4444444444444444,
              "#bd3786"
             ],
             [
              0.5555555555555556,
              "#d8576b"
             ],
             [
              0.6666666666666666,
              "#ed7953"
             ],
             [
              0.7777777777777778,
              "#fb9f3a"
             ],
             [
              0.8888888888888888,
              "#fdca26"
             ],
             [
              1,
              "#f0f921"
             ]
            ],
            "type": "contour"
           }
          ],
          "contourcarpet": [
           {
            "colorbar": {
             "outlinewidth": 0,
             "ticks": ""
            },
            "type": "contourcarpet"
           }
          ],
          "heatmap": [
           {
            "colorbar": {
             "outlinewidth": 0,
             "ticks": ""
            },
            "colorscale": [
             [
              0,
              "#0d0887"
             ],
             [
              0.1111111111111111,
              "#46039f"
             ],
             [
              0.2222222222222222,
              "#7201a8"
             ],
             [
              0.3333333333333333,
              "#9c179e"
             ],
             [
              0.4444444444444444,
              "#bd3786"
             ],
             [
              0.5555555555555556,
              "#d8576b"
             ],
             [
              0.6666666666666666,
              "#ed7953"
             ],
             [
              0.7777777777777778,
              "#fb9f3a"
             ],
             [
              0.8888888888888888,
              "#fdca26"
             ],
             [
              1,
              "#f0f921"
             ]
            ],
            "type": "heatmap"
           }
          ],
          "heatmapgl": [
           {
            "colorbar": {
             "outlinewidth": 0,
             "ticks": ""
            },
            "colorscale": [
             [
              0,
              "#0d0887"
             ],
             [
              0.1111111111111111,
              "#46039f"
             ],
             [
              0.2222222222222222,
              "#7201a8"
             ],
             [
              0.3333333333333333,
              "#9c179e"
             ],
             [
              0.4444444444444444,
              "#bd3786"
             ],
             [
              0.5555555555555556,
              "#d8576b"
             ],
             [
              0.6666666666666666,
              "#ed7953"
             ],
             [
              0.7777777777777778,
              "#fb9f3a"
             ],
             [
              0.8888888888888888,
              "#fdca26"
             ],
             [
              1,
              "#f0f921"
             ]
            ],
            "type": "heatmapgl"
           }
          ],
          "histogram": [
           {
            "marker": {
             "colorbar": {
              "outlinewidth": 0,
              "ticks": ""
             }
            },
            "type": "histogram"
           }
          ],
          "histogram2d": [
           {
            "colorbar": {
             "outlinewidth": 0,
             "ticks": ""
            },
            "colorscale": [
             [
              0,
              "#0d0887"
             ],
             [
              0.1111111111111111,
              "#46039f"
             ],
             [
              0.2222222222222222,
              "#7201a8"
             ],
             [
              0.3333333333333333,
              "#9c179e"
             ],
             [
              0.4444444444444444,
              "#bd3786"
             ],
             [
              0.5555555555555556,
              "#d8576b"
             ],
             [
              0.6666666666666666,
              "#ed7953"
             ],
             [
              0.7777777777777778,
              "#fb9f3a"
             ],
             [
              0.8888888888888888,
              "#fdca26"
             ],
             [
              1,
              "#f0f921"
             ]
            ],
            "type": "histogram2d"
           }
          ],
          "histogram2dcontour": [
           {
            "colorbar": {
             "outlinewidth": 0,
             "ticks": ""
            },
            "colorscale": [
             [
              0,
              "#0d0887"
             ],
             [
              0.1111111111111111,
              "#46039f"
             ],
             [
              0.2222222222222222,
              "#7201a8"
             ],
             [
              0.3333333333333333,
              "#9c179e"
             ],
             [
              0.4444444444444444,
              "#bd3786"
             ],
             [
              0.5555555555555556,
              "#d8576b"
             ],
             [
              0.6666666666666666,
              "#ed7953"
             ],
             [
              0.7777777777777778,
              "#fb9f3a"
             ],
             [
              0.8888888888888888,
              "#fdca26"
             ],
             [
              1,
              "#f0f921"
             ]
            ],
            "type": "histogram2dcontour"
           }
          ],
          "mesh3d": [
           {
            "colorbar": {
             "outlinewidth": 0,
             "ticks": ""
            },
            "type": "mesh3d"
           }
          ],
          "parcoords": [
           {
            "line": {
             "colorbar": {
              "outlinewidth": 0,
              "ticks": ""
             }
            },
            "type": "parcoords"
           }
          ],
          "scatter": [
           {
            "marker": {
             "line": {
              "color": "#283442"
             }
            },
            "type": "scatter"
           }
          ],
          "scatter3d": [
           {
            "line": {
             "colorbar": {
              "outlinewidth": 0,
              "ticks": ""
             }
            },
            "marker": {
             "colorbar": {
              "outlinewidth": 0,
              "ticks": ""
             }
            },
            "type": "scatter3d"
           }
          ],
          "scattercarpet": [
           {
            "marker": {
             "colorbar": {
              "outlinewidth": 0,
              "ticks": ""
             }
            },
            "type": "scattercarpet"
           }
          ],
          "scattergeo": [
           {
            "marker": {
             "colorbar": {
              "outlinewidth": 0,
              "ticks": ""
             }
            },
            "type": "scattergeo"
           }
          ],
          "scattergl": [
           {
            "marker": {
             "line": {
              "color": "#283442"
             }
            },
            "type": "scattergl"
           }
          ],
          "scattermapbox": [
           {
            "marker": {
             "colorbar": {
              "outlinewidth": 0,
              "ticks": ""
             }
            },
            "type": "scattermapbox"
           }
          ],
          "scatterpolar": [
           {
            "marker": {
             "colorbar": {
              "outlinewidth": 0,
              "ticks": ""
             }
            },
            "type": "scatterpolar"
           }
          ],
          "scatterpolargl": [
           {
            "marker": {
             "colorbar": {
              "outlinewidth": 0,
              "ticks": ""
             }
            },
            "type": "scatterpolargl"
           }
          ],
          "scatterternary": [
           {
            "marker": {
             "colorbar": {
              "outlinewidth": 0,
              "ticks": ""
             }
            },
            "type": "scatterternary"
           }
          ],
          "surface": [
           {
            "colorbar": {
             "outlinewidth": 0,
             "ticks": ""
            },
            "colorscale": [
             [
              0,
              "#0d0887"
             ],
             [
              0.1111111111111111,
              "#46039f"
             ],
             [
              0.2222222222222222,
              "#7201a8"
             ],
             [
              0.3333333333333333,
              "#9c179e"
             ],
             [
              0.4444444444444444,
              "#bd3786"
             ],
             [
              0.5555555555555556,
              "#d8576b"
             ],
             [
              0.6666666666666666,
              "#ed7953"
             ],
             [
              0.7777777777777778,
              "#fb9f3a"
             ],
             [
              0.8888888888888888,
              "#fdca26"
             ],
             [
              1,
              "#f0f921"
             ]
            ],
            "type": "surface"
           }
          ],
          "table": [
           {
            "cells": {
             "fill": {
              "color": "#506784"
             },
             "line": {
              "color": "rgb(17,17,17)"
             }
            },
            "header": {
             "fill": {
              "color": "#2a3f5f"
             },
             "line": {
              "color": "rgb(17,17,17)"
             }
            },
            "type": "table"
           }
          ]
         },
         "layout": {
          "annotationdefaults": {
           "arrowcolor": "#f2f5fa",
           "arrowhead": 0,
           "arrowwidth": 1
          },
          "colorscale": {
           "diverging": [
            [
             0,
             "#8e0152"
            ],
            [
             0.1,
             "#c51b7d"
            ],
            [
             0.2,
             "#de77ae"
            ],
            [
             0.3,
             "#f1b6da"
            ],
            [
             0.4,
             "#fde0ef"
            ],
            [
             0.5,
             "#f7f7f7"
            ],
            [
             0.6,
             "#e6f5d0"
            ],
            [
             0.7,
             "#b8e186"
            ],
            [
             0.8,
             "#7fbc41"
            ],
            [
             0.9,
             "#4d9221"
            ],
            [
             1,
             "#276419"
            ]
           ],
           "sequential": [
            [
             0,
             "#0d0887"
            ],
            [
             0.1111111111111111,
             "#46039f"
            ],
            [
             0.2222222222222222,
             "#7201a8"
            ],
            [
             0.3333333333333333,
             "#9c179e"
            ],
            [
             0.4444444444444444,
             "#bd3786"
            ],
            [
             0.5555555555555556,
             "#d8576b"
            ],
            [
             0.6666666666666666,
             "#ed7953"
            ],
            [
             0.7777777777777778,
             "#fb9f3a"
            ],
            [
             0.8888888888888888,
             "#fdca26"
            ],
            [
             1,
             "#f0f921"
            ]
           ],
           "sequentialminus": [
            [
             0,
             "#0d0887"
            ],
            [
             0.1111111111111111,
             "#46039f"
            ],
            [
             0.2222222222222222,
             "#7201a8"
            ],
            [
             0.3333333333333333,
             "#9c179e"
            ],
            [
             0.4444444444444444,
             "#bd3786"
            ],
            [
             0.5555555555555556,
             "#d8576b"
            ],
            [
             0.6666666666666666,
             "#ed7953"
            ],
            [
             0.7777777777777778,
             "#fb9f3a"
            ],
            [
             0.8888888888888888,
             "#fdca26"
            ],
            [
             1,
             "#f0f921"
            ]
           ]
          },
          "colorway": [
           "#636efa",
           "#EF553B",
           "#00cc96",
           "#ab63fa",
           "#FFA15A",
           "#19d3f3",
           "#FF6692",
           "#B6E880",
           "#FF97FF",
           "#FECB52"
          ],
          "font": {
           "color": "#f2f5fa"
          },
          "geo": {
           "bgcolor": "rgb(17,17,17)",
           "lakecolor": "rgb(17,17,17)",
           "landcolor": "rgb(17,17,17)",
           "showlakes": true,
           "showland": true,
           "subunitcolor": "#506784"
          },
          "hoverlabel": {
           "align": "left"
          },
          "hovermode": "closest",
          "mapbox": {
           "style": "dark"
          },
          "paper_bgcolor": "rgb(17,17,17)",
          "plot_bgcolor": "rgb(17,17,17)",
          "polar": {
           "angularaxis": {
            "gridcolor": "#506784",
            "linecolor": "#506784",
            "ticks": ""
           },
           "bgcolor": "rgb(17,17,17)",
           "radialaxis": {
            "gridcolor": "#506784",
            "linecolor": "#506784",
            "ticks": ""
           }
          },
          "scene": {
           "xaxis": {
            "backgroundcolor": "rgb(17,17,17)",
            "gridcolor": "#506784",
            "gridwidth": 2,
            "linecolor": "#506784",
            "showbackground": true,
            "ticks": "",
            "zerolinecolor": "#C8D4E3"
           },
           "yaxis": {
            "backgroundcolor": "rgb(17,17,17)",
            "gridcolor": "#506784",
            "gridwidth": 2,
            "linecolor": "#506784",
            "showbackground": true,
            "ticks": "",
            "zerolinecolor": "#C8D4E3"
           },
           "zaxis": {
            "backgroundcolor": "rgb(17,17,17)",
            "gridcolor": "#506784",
            "gridwidth": 2,
            "linecolor": "#506784",
            "showbackground": true,
            "ticks": "",
            "zerolinecolor": "#C8D4E3"
           }
          },
          "shapedefaults": {
           "line": {
            "color": "#f2f5fa"
           }
          },
          "sliderdefaults": {
           "bgcolor": "#C8D4E3",
           "bordercolor": "rgb(17,17,17)",
           "borderwidth": 1,
           "tickwidth": 0
          },
          "ternary": {
           "aaxis": {
            "gridcolor": "#506784",
            "linecolor": "#506784",
            "ticks": ""
           },
           "baxis": {
            "gridcolor": "#506784",
            "linecolor": "#506784",
            "ticks": ""
           },
           "bgcolor": "rgb(17,17,17)",
           "caxis": {
            "gridcolor": "#506784",
            "linecolor": "#506784",
            "ticks": ""
           }
          },
          "title": {
           "x": 0.05
          },
          "updatemenudefaults": {
           "bgcolor": "#506784",
           "borderwidth": 0
          },
          "xaxis": {
           "automargin": true,
           "gridcolor": "#283442",
           "linecolor": "#506784",
           "ticks": "",
           "zerolinecolor": "#283442",
           "zerolinewidth": 2
          },
          "yaxis": {
           "automargin": true,
           "gridcolor": "#283442",
           "linecolor": "#506784",
           "ticks": "",
           "zerolinecolor": "#283442",
           "zerolinewidth": 2
          }
         }
        },
        "title": {
         "text": "Top 10 Most Lectures Courses"
        },
        "yaxis": {
         "autorange": "reversed"
        }
       }
      },
      "text/html": [
       "<div>\n",
       "        \n",
       "        \n",
       "            <div id=\"fa383f64-9fa8-425c-a731-450ccc3a2a76\" class=\"plotly-graph-div\" style=\"height:500px; width:100%;\"></div>\n",
       "            <script type=\"text/javascript\">\n",
       "                require([\"plotly\"], function(Plotly) {\n",
       "                    window.PLOTLYENV=window.PLOTLYENV || {};\n",
       "                    \n",
       "                if (document.getElementById(\"fa383f64-9fa8-425c-a731-450ccc3a2a76\")) {\n",
       "                    Plotly.newPlot(\n",
       "                        'fa383f64-9fa8-425c-a731-450ccc3a2a76',\n",
       "                        [{\"marker\": {\"color\": [\"gold\", \"red\", \"chocolate\", \"coral\", \"cornflowerblue\", \"cornsilk\", \"crimson\", \"cyan\", \"darkblue\", \"darkcyan\"]}, \"orientation\": \"h\", \"type\": \"bar\", \"x\": [699, 668, 637, 636, 601, 601, 600, 600, 600, 600], \"y\": [\"Accounting\\u2013Financial Accounting Total-Beginners to Advanced\", \"QuickBooks Pro Desktop 2020, 2019, & 2018 Start to Finish\", \"The Complete Digital Marketing Guide - 18 Courses in 1\", \"The Ultimate QuickBooks Pro Training Bundle - 60+ Hours\", \"Winning Communication Skills for Telephone, Conference Calls\", \"Communication Skills for Beginners\", \"Complete Media Training Master Class - Confidence on Camera\", \"Workplace Communication: Effectively Deliver Criticism\", \"The Complete Communication Skills Master Class for Life\", \"The Complete Storytelling Course for Speaking & Presenting\"]}],\n",
       "                        {\"height\": 500, \"template\": {\"data\": {\"bar\": [{\"error_x\": {\"color\": \"#f2f5fa\"}, \"error_y\": {\"color\": \"#f2f5fa\"}, \"marker\": {\"line\": {\"color\": \"rgb(17,17,17)\", \"width\": 0.5}}, \"type\": \"bar\"}], \"barpolar\": [{\"marker\": {\"line\": {\"color\": \"rgb(17,17,17)\", \"width\": 0.5}}, \"type\": \"barpolar\"}], \"carpet\": [{\"aaxis\": {\"endlinecolor\": \"#A2B1C6\", \"gridcolor\": \"#506784\", \"linecolor\": \"#506784\", \"minorgridcolor\": \"#506784\", \"startlinecolor\": \"#A2B1C6\"}, \"baxis\": {\"endlinecolor\": \"#A2B1C6\", \"gridcolor\": \"#506784\", \"linecolor\": \"#506784\", \"minorgridcolor\": \"#506784\", \"startlinecolor\": \"#A2B1C6\"}, \"type\": \"carpet\"}], \"choropleth\": [{\"colorbar\": {\"outlinewidth\": 0, \"ticks\": \"\"}, \"type\": \"choropleth\"}], \"contour\": [{\"colorbar\": {\"outlinewidth\": 0, \"ticks\": \"\"}, \"colorscale\": [[0.0, \"#0d0887\"], [0.1111111111111111, \"#46039f\"], [0.2222222222222222, \"#7201a8\"], [0.3333333333333333, \"#9c179e\"], [0.4444444444444444, \"#bd3786\"], [0.5555555555555556, \"#d8576b\"], [0.6666666666666666, \"#ed7953\"], [0.7777777777777778, \"#fb9f3a\"], [0.8888888888888888, \"#fdca26\"], [1.0, \"#f0f921\"]], \"type\": \"contour\"}], \"contourcarpet\": [{\"colorbar\": {\"outlinewidth\": 0, \"ticks\": \"\"}, \"type\": \"contourcarpet\"}], \"heatmap\": [{\"colorbar\": {\"outlinewidth\": 0, \"ticks\": \"\"}, \"colorscale\": [[0.0, \"#0d0887\"], [0.1111111111111111, \"#46039f\"], [0.2222222222222222, \"#7201a8\"], [0.3333333333333333, \"#9c179e\"], [0.4444444444444444, \"#bd3786\"], [0.5555555555555556, \"#d8576b\"], [0.6666666666666666, \"#ed7953\"], [0.7777777777777778, \"#fb9f3a\"], [0.8888888888888888, \"#fdca26\"], [1.0, \"#f0f921\"]], \"type\": \"heatmap\"}], \"heatmapgl\": [{\"colorbar\": {\"outlinewidth\": 0, \"ticks\": \"\"}, \"colorscale\": [[0.0, \"#0d0887\"], [0.1111111111111111, \"#46039f\"], [0.2222222222222222, \"#7201a8\"], [0.3333333333333333, \"#9c179e\"], [0.4444444444444444, \"#bd3786\"], [0.5555555555555556, \"#d8576b\"], [0.6666666666666666, \"#ed7953\"], [0.7777777777777778, \"#fb9f3a\"], [0.8888888888888888, \"#fdca26\"], [1.0, \"#f0f921\"]], \"type\": \"heatmapgl\"}], \"histogram\": [{\"marker\": {\"colorbar\": {\"outlinewidth\": 0, \"ticks\": \"\"}}, \"type\": \"histogram\"}], \"histogram2d\": [{\"colorbar\": {\"outlinewidth\": 0, \"ticks\": \"\"}, \"colorscale\": [[0.0, \"#0d0887\"], [0.1111111111111111, \"#46039f\"], [0.2222222222222222, \"#7201a8\"], [0.3333333333333333, \"#9c179e\"], [0.4444444444444444, \"#bd3786\"], [0.5555555555555556, \"#d8576b\"], [0.6666666666666666, \"#ed7953\"], [0.7777777777777778, \"#fb9f3a\"], [0.8888888888888888, \"#fdca26\"], [1.0, \"#f0f921\"]], \"type\": \"histogram2d\"}], \"histogram2dcontour\": [{\"colorbar\": {\"outlinewidth\": 0, \"ticks\": \"\"}, \"colorscale\": [[0.0, \"#0d0887\"], [0.1111111111111111, \"#46039f\"], [0.2222222222222222, \"#7201a8\"], [0.3333333333333333, \"#9c179e\"], [0.4444444444444444, \"#bd3786\"], [0.5555555555555556, \"#d8576b\"], [0.6666666666666666, \"#ed7953\"], [0.7777777777777778, \"#fb9f3a\"], [0.8888888888888888, \"#fdca26\"], [1.0, \"#f0f921\"]], \"type\": \"histogram2dcontour\"}], \"mesh3d\": [{\"colorbar\": {\"outlinewidth\": 0, \"ticks\": \"\"}, \"type\": \"mesh3d\"}], \"parcoords\": [{\"line\": {\"colorbar\": {\"outlinewidth\": 0, \"ticks\": \"\"}}, \"type\": \"parcoords\"}], \"scatter\": [{\"marker\": {\"line\": {\"color\": \"#283442\"}}, \"type\": \"scatter\"}], \"scatter3d\": [{\"line\": {\"colorbar\": {\"outlinewidth\": 0, \"ticks\": \"\"}}, \"marker\": {\"colorbar\": {\"outlinewidth\": 0, \"ticks\": \"\"}}, \"type\": \"scatter3d\"}], \"scattercarpet\": [{\"marker\": {\"colorbar\": {\"outlinewidth\": 0, \"ticks\": \"\"}}, \"type\": \"scattercarpet\"}], \"scattergeo\": [{\"marker\": {\"colorbar\": {\"outlinewidth\": 0, \"ticks\": \"\"}}, \"type\": \"scattergeo\"}], \"scattergl\": [{\"marker\": {\"line\": {\"color\": \"#283442\"}}, \"type\": \"scattergl\"}], \"scattermapbox\": [{\"marker\": {\"colorbar\": {\"outlinewidth\": 0, \"ticks\": \"\"}}, \"type\": \"scattermapbox\"}], \"scatterpolar\": [{\"marker\": {\"colorbar\": {\"outlinewidth\": 0, \"ticks\": \"\"}}, \"type\": \"scatterpolar\"}], \"scatterpolargl\": [{\"marker\": {\"colorbar\": {\"outlinewidth\": 0, \"ticks\": \"\"}}, \"type\": \"scatterpolargl\"}], \"scatterternary\": [{\"marker\": {\"colorbar\": {\"outlinewidth\": 0, \"ticks\": \"\"}}, \"type\": \"scatterternary\"}], \"surface\": [{\"colorbar\": {\"outlinewidth\": 0, \"ticks\": \"\"}, \"colorscale\": [[0.0, \"#0d0887\"], [0.1111111111111111, \"#46039f\"], [0.2222222222222222, \"#7201a8\"], [0.3333333333333333, \"#9c179e\"], [0.4444444444444444, \"#bd3786\"], [0.5555555555555556, \"#d8576b\"], [0.6666666666666666, \"#ed7953\"], [0.7777777777777778, \"#fb9f3a\"], [0.8888888888888888, \"#fdca26\"], [1.0, \"#f0f921\"]], \"type\": \"surface\"}], \"table\": [{\"cells\": {\"fill\": {\"color\": \"#506784\"}, \"line\": {\"color\": \"rgb(17,17,17)\"}}, \"header\": {\"fill\": {\"color\": \"#2a3f5f\"}, \"line\": {\"color\": \"rgb(17,17,17)\"}}, \"type\": \"table\"}]}, \"layout\": {\"annotationdefaults\": {\"arrowcolor\": \"#f2f5fa\", \"arrowhead\": 0, \"arrowwidth\": 1}, \"colorscale\": {\"diverging\": [[0, \"#8e0152\"], [0.1, \"#c51b7d\"], [0.2, \"#de77ae\"], [0.3, \"#f1b6da\"], [0.4, \"#fde0ef\"], [0.5, \"#f7f7f7\"], [0.6, \"#e6f5d0\"], [0.7, \"#b8e186\"], [0.8, \"#7fbc41\"], [0.9, \"#4d9221\"], [1, \"#276419\"]], \"sequential\": [[0.0, \"#0d0887\"], [0.1111111111111111, \"#46039f\"], [0.2222222222222222, \"#7201a8\"], [0.3333333333333333, \"#9c179e\"], [0.4444444444444444, \"#bd3786\"], [0.5555555555555556, \"#d8576b\"], [0.6666666666666666, \"#ed7953\"], [0.7777777777777778, \"#fb9f3a\"], [0.8888888888888888, \"#fdca26\"], [1.0, \"#f0f921\"]], \"sequentialminus\": [[0.0, \"#0d0887\"], [0.1111111111111111, \"#46039f\"], [0.2222222222222222, \"#7201a8\"], [0.3333333333333333, \"#9c179e\"], [0.4444444444444444, \"#bd3786\"], [0.5555555555555556, \"#d8576b\"], [0.6666666666666666, \"#ed7953\"], [0.7777777777777778, \"#fb9f3a\"], [0.8888888888888888, \"#fdca26\"], [1.0, \"#f0f921\"]]}, \"colorway\": [\"#636efa\", \"#EF553B\", \"#00cc96\", \"#ab63fa\", \"#FFA15A\", \"#19d3f3\", \"#FF6692\", \"#B6E880\", \"#FF97FF\", \"#FECB52\"], \"font\": {\"color\": \"#f2f5fa\"}, \"geo\": {\"bgcolor\": \"rgb(17,17,17)\", \"lakecolor\": \"rgb(17,17,17)\", \"landcolor\": \"rgb(17,17,17)\", \"showlakes\": true, \"showland\": true, \"subunitcolor\": \"#506784\"}, \"hoverlabel\": {\"align\": \"left\"}, \"hovermode\": \"closest\", \"mapbox\": {\"style\": \"dark\"}, \"paper_bgcolor\": \"rgb(17,17,17)\", \"plot_bgcolor\": \"rgb(17,17,17)\", \"polar\": {\"angularaxis\": {\"gridcolor\": \"#506784\", \"linecolor\": \"#506784\", \"ticks\": \"\"}, \"bgcolor\": \"rgb(17,17,17)\", \"radialaxis\": {\"gridcolor\": \"#506784\", \"linecolor\": \"#506784\", \"ticks\": \"\"}}, \"scene\": {\"xaxis\": {\"backgroundcolor\": \"rgb(17,17,17)\", \"gridcolor\": \"#506784\", \"gridwidth\": 2, \"linecolor\": \"#506784\", \"showbackground\": true, \"ticks\": \"\", \"zerolinecolor\": \"#C8D4E3\"}, \"yaxis\": {\"backgroundcolor\": \"rgb(17,17,17)\", \"gridcolor\": \"#506784\", \"gridwidth\": 2, \"linecolor\": \"#506784\", \"showbackground\": true, \"ticks\": \"\", \"zerolinecolor\": \"#C8D4E3\"}, \"zaxis\": {\"backgroundcolor\": \"rgb(17,17,17)\", \"gridcolor\": \"#506784\", \"gridwidth\": 2, \"linecolor\": \"#506784\", \"showbackground\": true, \"ticks\": \"\", \"zerolinecolor\": \"#C8D4E3\"}}, \"shapedefaults\": {\"line\": {\"color\": \"#f2f5fa\"}}, \"sliderdefaults\": {\"bgcolor\": \"#C8D4E3\", \"bordercolor\": \"rgb(17,17,17)\", \"borderwidth\": 1, \"tickwidth\": 0}, \"ternary\": {\"aaxis\": {\"gridcolor\": \"#506784\", \"linecolor\": \"#506784\", \"ticks\": \"\"}, \"baxis\": {\"gridcolor\": \"#506784\", \"linecolor\": \"#506784\", \"ticks\": \"\"}, \"bgcolor\": \"rgb(17,17,17)\", \"caxis\": {\"gridcolor\": \"#506784\", \"linecolor\": \"#506784\", \"ticks\": \"\"}}, \"title\": {\"x\": 0.05}, \"updatemenudefaults\": {\"bgcolor\": \"#506784\", \"borderwidth\": 0}, \"xaxis\": {\"automargin\": true, \"gridcolor\": \"#283442\", \"linecolor\": \"#506784\", \"ticks\": \"\", \"zerolinecolor\": \"#283442\", \"zerolinewidth\": 2}, \"yaxis\": {\"automargin\": true, \"gridcolor\": \"#283442\", \"linecolor\": \"#506784\", \"ticks\": \"\", \"zerolinecolor\": \"#283442\", \"zerolinewidth\": 2}}}, \"title\": {\"text\": \"Top 10 Most Lectures Courses\"}, \"yaxis\": {\"autorange\": \"reversed\"}},\n",
       "                        {\"responsive\": true}\n",
       "                    ).then(function(){\n",
       "                            \n",
       "var gd = document.getElementById('fa383f64-9fa8-425c-a731-450ccc3a2a76');\n",
       "var x = new MutationObserver(function (mutations, observer) {{\n",
       "        var display = window.getComputedStyle(gd).display;\n",
       "        if (!display || display === 'none') {{\n",
       "            console.log([gd, 'removed!']);\n",
       "            Plotly.purge(gd);\n",
       "            observer.disconnect();\n",
       "        }}\n",
       "}});\n",
       "\n",
       "// Listen for the removal of the full notebook cells\n",
       "var notebookContainer = gd.closest('#notebook-container');\n",
       "if (notebookContainer) {{\n",
       "    x.observe(notebookContainer, {childList: true});\n",
       "}}\n",
       "\n",
       "// Listen for the clearing of the current output cell\n",
       "var outputEl = gd.closest('.output');\n",
       "if (outputEl) {{\n",
       "    x.observe(outputEl, {childList: true});\n",
       "}}\n",
       "\n",
       "                        })\n",
       "                };\n",
       "                });\n",
       "            </script>\n",
       "        </div>"
      ]
     },
     "metadata": {},
     "output_type": "display_data"
    }
   ],
   "source": [
    "\n",
    "df = data.sort_values(by=\"lectures\", ascending=False)\n",
    "\n",
    "trace = go.Bar( x=df.lectures[0:10],\n",
    "              y = df.title[0:10],\n",
    "              marker= dict(color=['gold','red', 'chocolate', 'coral', 'cornflowerblue',\n",
    "            'cornsilk', 'crimson', 'cyan', 'darkblue', 'darkcyan']),orientation='h')\n",
    "\n",
    "layout = dict(height=500,\n",
    "              yaxis=dict(autorange=\"reversed\"),\n",
    "             title=\"Top 10 Most Lectures Courses\",\n",
    "                template = \"plotly_dark\")\n",
    "\n",
    "fig = go.Figure(data=[trace], layout=layout)\n",
    "fig.show()"
   ]
  },
  {
   "cell_type": "code",
   "execution_count": null,
   "metadata": {},
   "outputs": [],
   "source": []
  },
  {
   "cell_type": "code",
   "execution_count": null,
   "metadata": {},
   "outputs": [],
   "source": []
  }
 ],
 "metadata": {
  "kernelspec": {
   "display_name": "Python 3",
   "language": "python",
   "name": "python3"
  },
  "language_info": {
   "codemirror_mode": {
    "name": "ipython",
    "version": 3
   },
   "file_extension": ".py",
   "mimetype": "text/x-python",
   "name": "python",
   "nbconvert_exporter": "python",
   "pygments_lexer": "ipython3",
   "version": "3.8.3"
  }
 },
 "nbformat": 4,
 "nbformat_minor": 4
}
